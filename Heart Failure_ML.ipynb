{
 "cells": [
  {
   "cell_type": "code",
   "execution_count": 1,
   "metadata": {},
   "outputs": [],
   "source": [
    "#Importing Python Modules Pandas, Numpy, Seaborn and MetaplotLib\n",
    "import numpy as np\n",
    "import pandas as pd\n",
    "import seaborn as sns\n",
    "import matplotlib.pyplot as plt"
   ]
  },
  {
   "cell_type": "code",
   "execution_count": 2,
   "metadata": {},
   "outputs": [],
   "source": [
    "#Loading HCV dataset into variable df by using pandas\n",
    "df = pd.read_csv(\"F:\\Data Science Course\\Joyita\\Heart Failure - CBV\\heart_failure_clinical_records.csv\")"
   ]
  },
  {
   "cell_type": "code",
   "execution_count": 3,
   "metadata": {},
   "outputs": [
    {
     "data": {
      "text/html": [
       "<div>\n",
       "<style scoped>\n",
       "    .dataframe tbody tr th:only-of-type {\n",
       "        vertical-align: middle;\n",
       "    }\n",
       "\n",
       "    .dataframe tbody tr th {\n",
       "        vertical-align: top;\n",
       "    }\n",
       "\n",
       "    .dataframe thead th {\n",
       "        text-align: right;\n",
       "    }\n",
       "</style>\n",
       "<table border=\"1\" class=\"dataframe\">\n",
       "  <thead>\n",
       "    <tr style=\"text-align: right;\">\n",
       "      <th></th>\n",
       "      <th>age</th>\n",
       "      <th>anaemia</th>\n",
       "      <th>creatinine_phosphokinase</th>\n",
       "      <th>diabetes</th>\n",
       "      <th>ejection_fraction</th>\n",
       "      <th>high_blood_pressure</th>\n",
       "      <th>platelets</th>\n",
       "      <th>serum_creatinine</th>\n",
       "      <th>serum_sodium</th>\n",
       "      <th>sex</th>\n",
       "      <th>smoking</th>\n",
       "      <th>time</th>\n",
       "      <th>DEATH_EVENT</th>\n",
       "    </tr>\n",
       "  </thead>\n",
       "  <tbody>\n",
       "    <tr>\n",
       "      <th>0</th>\n",
       "      <td>75.0</td>\n",
       "      <td>0</td>\n",
       "      <td>582</td>\n",
       "      <td>0</td>\n",
       "      <td>20</td>\n",
       "      <td>1</td>\n",
       "      <td>265000.00</td>\n",
       "      <td>1.9</td>\n",
       "      <td>130</td>\n",
       "      <td>1</td>\n",
       "      <td>0</td>\n",
       "      <td>4</td>\n",
       "      <td>1</td>\n",
       "    </tr>\n",
       "    <tr>\n",
       "      <th>1</th>\n",
       "      <td>55.0</td>\n",
       "      <td>0</td>\n",
       "      <td>7861</td>\n",
       "      <td>0</td>\n",
       "      <td>38</td>\n",
       "      <td>0</td>\n",
       "      <td>263358.03</td>\n",
       "      <td>1.1</td>\n",
       "      <td>136</td>\n",
       "      <td>1</td>\n",
       "      <td>0</td>\n",
       "      <td>6</td>\n",
       "      <td>1</td>\n",
       "    </tr>\n",
       "    <tr>\n",
       "      <th>2</th>\n",
       "      <td>65.0</td>\n",
       "      <td>0</td>\n",
       "      <td>146</td>\n",
       "      <td>0</td>\n",
       "      <td>20</td>\n",
       "      <td>0</td>\n",
       "      <td>162000.00</td>\n",
       "      <td>1.3</td>\n",
       "      <td>129</td>\n",
       "      <td>1</td>\n",
       "      <td>1</td>\n",
       "      <td>7</td>\n",
       "      <td>1</td>\n",
       "    </tr>\n",
       "    <tr>\n",
       "      <th>3</th>\n",
       "      <td>50.0</td>\n",
       "      <td>1</td>\n",
       "      <td>111</td>\n",
       "      <td>0</td>\n",
       "      <td>20</td>\n",
       "      <td>0</td>\n",
       "      <td>210000.00</td>\n",
       "      <td>1.9</td>\n",
       "      <td>137</td>\n",
       "      <td>1</td>\n",
       "      <td>0</td>\n",
       "      <td>7</td>\n",
       "      <td>1</td>\n",
       "    </tr>\n",
       "    <tr>\n",
       "      <th>4</th>\n",
       "      <td>65.0</td>\n",
       "      <td>1</td>\n",
       "      <td>160</td>\n",
       "      <td>1</td>\n",
       "      <td>20</td>\n",
       "      <td>0</td>\n",
       "      <td>327000.00</td>\n",
       "      <td>2.7</td>\n",
       "      <td>116</td>\n",
       "      <td>0</td>\n",
       "      <td>0</td>\n",
       "      <td>8</td>\n",
       "      <td>1</td>\n",
       "    </tr>\n",
       "  </tbody>\n",
       "</table>\n",
       "</div>"
      ],
      "text/plain": [
       "    age  anaemia  creatinine_phosphokinase  diabetes  ejection_fraction  \\\n",
       "0  75.0        0                       582         0                 20   \n",
       "1  55.0        0                      7861         0                 38   \n",
       "2  65.0        0                       146         0                 20   \n",
       "3  50.0        1                       111         0                 20   \n",
       "4  65.0        1                       160         1                 20   \n",
       "\n",
       "   high_blood_pressure  platelets  serum_creatinine  serum_sodium  sex  \\\n",
       "0                    1  265000.00               1.9           130    1   \n",
       "1                    0  263358.03               1.1           136    1   \n",
       "2                    0  162000.00               1.3           129    1   \n",
       "3                    0  210000.00               1.9           137    1   \n",
       "4                    0  327000.00               2.7           116    0   \n",
       "\n",
       "   smoking  time  DEATH_EVENT  \n",
       "0        0     4            1  \n",
       "1        0     6            1  \n",
       "2        1     7            1  \n",
       "3        0     7            1  \n",
       "4        0     8            1  "
      ]
     },
     "execution_count": 3,
     "metadata": {},
     "output_type": "execute_result"
    }
   ],
   "source": [
    "#To view first 5 rows of the dataset\n",
    "df.head()"
   ]
  },
  {
   "cell_type": "code",
   "execution_count": 4,
   "metadata": {},
   "outputs": [
    {
     "data": {
      "text/plain": [
       "age                         0\n",
       "anaemia                     0\n",
       "creatinine_phosphokinase    0\n",
       "diabetes                    0\n",
       "ejection_fraction           0\n",
       "high_blood_pressure         0\n",
       "platelets                   0\n",
       "serum_creatinine            0\n",
       "serum_sodium                0\n",
       "sex                         0\n",
       "smoking                     0\n",
       "time                        0\n",
       "DEATH_EVENT                 0\n",
       "dtype: int64"
      ]
     },
     "execution_count": 4,
     "metadata": {},
     "output_type": "execute_result"
    }
   ],
   "source": [
    "df.isnull().sum()"
   ]
  },
  {
   "cell_type": "code",
   "execution_count": 5,
   "metadata": {},
   "outputs": [
    {
     "data": {
      "text/plain": [
       "0    203\n",
       "1     96\n",
       "Name: DEATH_EVENT, dtype: int64"
      ]
     },
     "execution_count": 5,
     "metadata": {},
     "output_type": "execute_result"
    }
   ],
   "source": [
    "df[\"DEATH_EVENT\"].value_counts()"
   ]
  },
  {
   "cell_type": "code",
   "execution_count": 6,
   "metadata": {},
   "outputs": [
    {
     "data": {
      "text/html": [
       "<div>\n",
       "<style scoped>\n",
       "    .dataframe tbody tr th:only-of-type {\n",
       "        vertical-align: middle;\n",
       "    }\n",
       "\n",
       "    .dataframe tbody tr th {\n",
       "        vertical-align: top;\n",
       "    }\n",
       "\n",
       "    .dataframe thead th {\n",
       "        text-align: right;\n",
       "    }\n",
       "</style>\n",
       "<table border=\"1\" class=\"dataframe\">\n",
       "  <thead>\n",
       "    <tr style=\"text-align: right;\">\n",
       "      <th></th>\n",
       "      <th>age</th>\n",
       "      <th>diabetes</th>\n",
       "      <th>ejection_fraction</th>\n",
       "      <th>high_blood_pressure</th>\n",
       "      <th>platelets</th>\n",
       "      <th>serum_creatinine</th>\n",
       "      <th>serum_sodium</th>\n",
       "      <th>sex</th>\n",
       "      <th>smoking</th>\n",
       "      <th>time</th>\n",
       "      <th>DEATH_EVENT</th>\n",
       "    </tr>\n",
       "  </thead>\n",
       "  <tbody>\n",
       "    <tr>\n",
       "      <th>0</th>\n",
       "      <td>75.0</td>\n",
       "      <td>0</td>\n",
       "      <td>20</td>\n",
       "      <td>1</td>\n",
       "      <td>265000.00</td>\n",
       "      <td>1.9</td>\n",
       "      <td>130</td>\n",
       "      <td>1</td>\n",
       "      <td>0</td>\n",
       "      <td>4</td>\n",
       "      <td>1</td>\n",
       "    </tr>\n",
       "    <tr>\n",
       "      <th>1</th>\n",
       "      <td>55.0</td>\n",
       "      <td>0</td>\n",
       "      <td>38</td>\n",
       "      <td>0</td>\n",
       "      <td>263358.03</td>\n",
       "      <td>1.1</td>\n",
       "      <td>136</td>\n",
       "      <td>1</td>\n",
       "      <td>0</td>\n",
       "      <td>6</td>\n",
       "      <td>1</td>\n",
       "    </tr>\n",
       "    <tr>\n",
       "      <th>2</th>\n",
       "      <td>65.0</td>\n",
       "      <td>0</td>\n",
       "      <td>20</td>\n",
       "      <td>0</td>\n",
       "      <td>162000.00</td>\n",
       "      <td>1.3</td>\n",
       "      <td>129</td>\n",
       "      <td>1</td>\n",
       "      <td>1</td>\n",
       "      <td>7</td>\n",
       "      <td>1</td>\n",
       "    </tr>\n",
       "    <tr>\n",
       "      <th>3</th>\n",
       "      <td>50.0</td>\n",
       "      <td>0</td>\n",
       "      <td>20</td>\n",
       "      <td>0</td>\n",
       "      <td>210000.00</td>\n",
       "      <td>1.9</td>\n",
       "      <td>137</td>\n",
       "      <td>1</td>\n",
       "      <td>0</td>\n",
       "      <td>7</td>\n",
       "      <td>1</td>\n",
       "    </tr>\n",
       "    <tr>\n",
       "      <th>4</th>\n",
       "      <td>65.0</td>\n",
       "      <td>1</td>\n",
       "      <td>20</td>\n",
       "      <td>0</td>\n",
       "      <td>327000.00</td>\n",
       "      <td>2.7</td>\n",
       "      <td>116</td>\n",
       "      <td>0</td>\n",
       "      <td>0</td>\n",
       "      <td>8</td>\n",
       "      <td>1</td>\n",
       "    </tr>\n",
       "  </tbody>\n",
       "</table>\n",
       "</div>"
      ],
      "text/plain": [
       "    age  diabetes  ejection_fraction  high_blood_pressure  platelets  \\\n",
       "0  75.0         0                 20                    1  265000.00   \n",
       "1  55.0         0                 38                    0  263358.03   \n",
       "2  65.0         0                 20                    0  162000.00   \n",
       "3  50.0         0                 20                    0  210000.00   \n",
       "4  65.0         1                 20                    0  327000.00   \n",
       "\n",
       "   serum_creatinine  serum_sodium  sex  smoking  time  DEATH_EVENT  \n",
       "0               1.9           130    1        0     4            1  \n",
       "1               1.1           136    1        0     6            1  \n",
       "2               1.3           129    1        1     7            1  \n",
       "3               1.9           137    1        0     7            1  \n",
       "4               2.7           116    0        0     8            1  "
      ]
     },
     "execution_count": 6,
     "metadata": {},
     "output_type": "execute_result"
    }
   ],
   "source": [
    "df.drop([\"anaemia\", \"creatinine_phosphokinase\"], axis=1, inplace=True)\n",
    "df.head()"
   ]
  },
  {
   "cell_type": "code",
   "execution_count": 7,
   "metadata": {},
   "outputs": [],
   "source": [
    "# Import Library for VIF\n",
    "from statsmodels.stats.outliers_influence import variance_inflation_factor\n",
    "\n",
    "def calc_vif(X):\n",
    "\n",
    "    #Calculating VIF\n",
    "    vif=pd.DataFrame()\n",
    "    vif[\"variables\"] = X.columns\n",
    "    vif[\"VIF\"] = [variance_inflation_factor(X.values, i) for i in range(X.shape[1])]\n",
    "    \n",
    "    return(vif)"
   ]
  },
  {
   "cell_type": "code",
   "execution_count": 8,
   "metadata": {},
   "outputs": [
    {
     "data": {
      "text/html": [
       "<div>\n",
       "<style scoped>\n",
       "    .dataframe tbody tr th:only-of-type {\n",
       "        vertical-align: middle;\n",
       "    }\n",
       "\n",
       "    .dataframe tbody tr th {\n",
       "        vertical-align: top;\n",
       "    }\n",
       "\n",
       "    .dataframe thead th {\n",
       "        text-align: right;\n",
       "    }\n",
       "</style>\n",
       "<table border=\"1\" class=\"dataframe\">\n",
       "  <thead>\n",
       "    <tr style=\"text-align: right;\">\n",
       "      <th></th>\n",
       "      <th>variables</th>\n",
       "      <th>VIF</th>\n",
       "    </tr>\n",
       "  </thead>\n",
       "  <tbody>\n",
       "    <tr>\n",
       "      <th>0</th>\n",
       "      <td>age</td>\n",
       "      <td>28.845213</td>\n",
       "    </tr>\n",
       "    <tr>\n",
       "      <th>1</th>\n",
       "      <td>diabetes</td>\n",
       "      <td>1.788433</td>\n",
       "    </tr>\n",
       "    <tr>\n",
       "      <th>2</th>\n",
       "      <td>ejection_fraction</td>\n",
       "      <td>12.065505</td>\n",
       "    </tr>\n",
       "    <tr>\n",
       "      <th>3</th>\n",
       "      <td>high_blood_pressure</td>\n",
       "      <td>1.638430</td>\n",
       "    </tr>\n",
       "    <tr>\n",
       "      <th>4</th>\n",
       "      <td>platelets</td>\n",
       "      <td>8.615141</td>\n",
       "    </tr>\n",
       "    <tr>\n",
       "      <th>5</th>\n",
       "      <td>serum_creatinine</td>\n",
       "      <td>2.918107</td>\n",
       "    </tr>\n",
       "    <tr>\n",
       "      <th>6</th>\n",
       "      <td>serum_sodium</td>\n",
       "      <td>56.093821</td>\n",
       "    </tr>\n",
       "    <tr>\n",
       "      <th>7</th>\n",
       "      <td>sex</td>\n",
       "      <td>3.758288</td>\n",
       "    </tr>\n",
       "    <tr>\n",
       "      <th>8</th>\n",
       "      <td>smoking</td>\n",
       "      <td>1.876257</td>\n",
       "    </tr>\n",
       "    <tr>\n",
       "      <th>9</th>\n",
       "      <td>time</td>\n",
       "      <td>4.258945</td>\n",
       "    </tr>\n",
       "  </tbody>\n",
       "</table>\n",
       "</div>"
      ],
      "text/plain": [
       "             variables        VIF\n",
       "0                  age  28.845213\n",
       "1             diabetes   1.788433\n",
       "2    ejection_fraction  12.065505\n",
       "3  high_blood_pressure   1.638430\n",
       "4            platelets   8.615141\n",
       "5     serum_creatinine   2.918107\n",
       "6         serum_sodium  56.093821\n",
       "7                  sex   3.758288\n",
       "8              smoking   1.876257\n",
       "9                 time   4.258945"
      ]
     },
     "execution_count": 8,
     "metadata": {},
     "output_type": "execute_result"
    }
   ],
   "source": [
    "X = df.iloc[:,:-1]\n",
    "calc_vif(X)"
   ]
  },
  {
   "cell_type": "code",
   "execution_count": 9,
   "metadata": {},
   "outputs": [],
   "source": [
    "#spliting independent features and target label\n",
    "X = df.iloc[:,:-1]  #independent features\n",
    "Y = df[\"DEATH_EVENT\"]  #dependent feature or target "
   ]
  },
  {
   "cell_type": "code",
   "execution_count": 10,
   "metadata": {},
   "outputs": [
    {
     "data": {
      "text/html": [
       "<div>\n",
       "<style scoped>\n",
       "    .dataframe tbody tr th:only-of-type {\n",
       "        vertical-align: middle;\n",
       "    }\n",
       "\n",
       "    .dataframe tbody tr th {\n",
       "        vertical-align: top;\n",
       "    }\n",
       "\n",
       "    .dataframe thead th {\n",
       "        text-align: right;\n",
       "    }\n",
       "</style>\n",
       "<table border=\"1\" class=\"dataframe\">\n",
       "  <thead>\n",
       "    <tr style=\"text-align: right;\">\n",
       "      <th></th>\n",
       "      <th>age</th>\n",
       "      <th>diabetes</th>\n",
       "      <th>ejection_fraction</th>\n",
       "      <th>high_blood_pressure</th>\n",
       "      <th>platelets</th>\n",
       "      <th>serum_creatinine</th>\n",
       "      <th>serum_sodium</th>\n",
       "      <th>sex</th>\n",
       "      <th>smoking</th>\n",
       "      <th>time</th>\n",
       "    </tr>\n",
       "  </thead>\n",
       "  <tbody>\n",
       "    <tr>\n",
       "      <th>0</th>\n",
       "      <td>75.0</td>\n",
       "      <td>0</td>\n",
       "      <td>20</td>\n",
       "      <td>1</td>\n",
       "      <td>265000.00</td>\n",
       "      <td>1.9</td>\n",
       "      <td>130</td>\n",
       "      <td>1</td>\n",
       "      <td>0</td>\n",
       "      <td>4</td>\n",
       "    </tr>\n",
       "    <tr>\n",
       "      <th>1</th>\n",
       "      <td>55.0</td>\n",
       "      <td>0</td>\n",
       "      <td>38</td>\n",
       "      <td>0</td>\n",
       "      <td>263358.03</td>\n",
       "      <td>1.1</td>\n",
       "      <td>136</td>\n",
       "      <td>1</td>\n",
       "      <td>0</td>\n",
       "      <td>6</td>\n",
       "    </tr>\n",
       "    <tr>\n",
       "      <th>2</th>\n",
       "      <td>65.0</td>\n",
       "      <td>0</td>\n",
       "      <td>20</td>\n",
       "      <td>0</td>\n",
       "      <td>162000.00</td>\n",
       "      <td>1.3</td>\n",
       "      <td>129</td>\n",
       "      <td>1</td>\n",
       "      <td>1</td>\n",
       "      <td>7</td>\n",
       "    </tr>\n",
       "    <tr>\n",
       "      <th>3</th>\n",
       "      <td>50.0</td>\n",
       "      <td>0</td>\n",
       "      <td>20</td>\n",
       "      <td>0</td>\n",
       "      <td>210000.00</td>\n",
       "      <td>1.9</td>\n",
       "      <td>137</td>\n",
       "      <td>1</td>\n",
       "      <td>0</td>\n",
       "      <td>7</td>\n",
       "    </tr>\n",
       "    <tr>\n",
       "      <th>4</th>\n",
       "      <td>65.0</td>\n",
       "      <td>1</td>\n",
       "      <td>20</td>\n",
       "      <td>0</td>\n",
       "      <td>327000.00</td>\n",
       "      <td>2.7</td>\n",
       "      <td>116</td>\n",
       "      <td>0</td>\n",
       "      <td>0</td>\n",
       "      <td>8</td>\n",
       "    </tr>\n",
       "  </tbody>\n",
       "</table>\n",
       "</div>"
      ],
      "text/plain": [
       "    age  diabetes  ejection_fraction  high_blood_pressure  platelets  \\\n",
       "0  75.0         0                 20                    1  265000.00   \n",
       "1  55.0         0                 38                    0  263358.03   \n",
       "2  65.0         0                 20                    0  162000.00   \n",
       "3  50.0         0                 20                    0  210000.00   \n",
       "4  65.0         1                 20                    0  327000.00   \n",
       "\n",
       "   serum_creatinine  serum_sodium  sex  smoking  time  \n",
       "0               1.9           130    1        0     4  \n",
       "1               1.1           136    1        0     6  \n",
       "2               1.3           129    1        1     7  \n",
       "3               1.9           137    1        0     7  \n",
       "4               2.7           116    0        0     8  "
      ]
     },
     "execution_count": 10,
     "metadata": {},
     "output_type": "execute_result"
    }
   ],
   "source": [
    "X.head()"
   ]
  },
  {
   "cell_type": "code",
   "execution_count": 11,
   "metadata": {},
   "outputs": [
    {
     "data": {
      "text/plain": [
       "0    1\n",
       "1    1\n",
       "2    1\n",
       "3    1\n",
       "4    1\n",
       "Name: DEATH_EVENT, dtype: int64"
      ]
     },
     "execution_count": 11,
     "metadata": {},
     "output_type": "execute_result"
    }
   ],
   "source": [
    "Y.head()"
   ]
  },
  {
   "cell_type": "code",
   "execution_count": 12,
   "metadata": {},
   "outputs": [],
   "source": [
    "#SKLearn for train and test split\n",
    "\n",
    "from sklearn.model_selection import train_test_split\n",
    "from sklearn.metrics import *\n",
    "\n",
    "#train ==> i will teach my model, frame mathematical equation\n",
    "#test"
   ]
  },
  {
   "cell_type": "code",
   "execution_count": 13,
   "metadata": {},
   "outputs": [],
   "source": [
    "X_train, X_test, Y_train, Y_test = train_test_split(X,Y, train_size = 0.8, random_state = 0)"
   ]
  },
  {
   "cell_type": "code",
   "execution_count": 14,
   "metadata": {},
   "outputs": [
    {
     "data": {
      "text/html": [
       "<div>\n",
       "<style scoped>\n",
       "    .dataframe tbody tr th:only-of-type {\n",
       "        vertical-align: middle;\n",
       "    }\n",
       "\n",
       "    .dataframe tbody tr th {\n",
       "        vertical-align: top;\n",
       "    }\n",
       "\n",
       "    .dataframe thead th {\n",
       "        text-align: right;\n",
       "    }\n",
       "</style>\n",
       "<table border=\"1\" class=\"dataframe\">\n",
       "  <thead>\n",
       "    <tr style=\"text-align: right;\">\n",
       "      <th></th>\n",
       "      <th>age</th>\n",
       "      <th>diabetes</th>\n",
       "      <th>ejection_fraction</th>\n",
       "      <th>high_blood_pressure</th>\n",
       "      <th>platelets</th>\n",
       "      <th>serum_creatinine</th>\n",
       "      <th>serum_sodium</th>\n",
       "      <th>sex</th>\n",
       "      <th>smoking</th>\n",
       "      <th>time</th>\n",
       "    </tr>\n",
       "  </thead>\n",
       "  <tbody>\n",
       "    <tr>\n",
       "      <th>134</th>\n",
       "      <td>81.0</td>\n",
       "      <td>0</td>\n",
       "      <td>35</td>\n",
       "      <td>0</td>\n",
       "      <td>231000.0</td>\n",
       "      <td>1.18</td>\n",
       "      <td>137</td>\n",
       "      <td>1</td>\n",
       "      <td>1</td>\n",
       "      <td>107</td>\n",
       "    </tr>\n",
       "    <tr>\n",
       "      <th>145</th>\n",
       "      <td>50.0</td>\n",
       "      <td>0</td>\n",
       "      <td>30</td>\n",
       "      <td>0</td>\n",
       "      <td>266000.0</td>\n",
       "      <td>0.70</td>\n",
       "      <td>141</td>\n",
       "      <td>1</td>\n",
       "      <td>1</td>\n",
       "      <td>112</td>\n",
       "    </tr>\n",
       "    <tr>\n",
       "      <th>63</th>\n",
       "      <td>45.0</td>\n",
       "      <td>0</td>\n",
       "      <td>35</td>\n",
       "      <td>0</td>\n",
       "      <td>385000.0</td>\n",
       "      <td>1.00</td>\n",
       "      <td>145</td>\n",
       "      <td>1</td>\n",
       "      <td>0</td>\n",
       "      <td>61</td>\n",
       "    </tr>\n",
       "    <tr>\n",
       "      <th>292</th>\n",
       "      <td>52.0</td>\n",
       "      <td>1</td>\n",
       "      <td>38</td>\n",
       "      <td>0</td>\n",
       "      <td>382000.0</td>\n",
       "      <td>1.00</td>\n",
       "      <td>140</td>\n",
       "      <td>1</td>\n",
       "      <td>1</td>\n",
       "      <td>258</td>\n",
       "    </tr>\n",
       "    <tr>\n",
       "      <th>284</th>\n",
       "      <td>50.0</td>\n",
       "      <td>0</td>\n",
       "      <td>40</td>\n",
       "      <td>0</td>\n",
       "      <td>279000.0</td>\n",
       "      <td>0.80</td>\n",
       "      <td>141</td>\n",
       "      <td>1</td>\n",
       "      <td>0</td>\n",
       "      <td>250</td>\n",
       "    </tr>\n",
       "    <tr>\n",
       "      <th>...</th>\n",
       "      <td>...</td>\n",
       "      <td>...</td>\n",
       "      <td>...</td>\n",
       "      <td>...</td>\n",
       "      <td>...</td>\n",
       "      <td>...</td>\n",
       "      <td>...</td>\n",
       "      <td>...</td>\n",
       "      <td>...</td>\n",
       "      <td>...</td>\n",
       "    </tr>\n",
       "    <tr>\n",
       "      <th>251</th>\n",
       "      <td>55.0</td>\n",
       "      <td>1</td>\n",
       "      <td>35</td>\n",
       "      <td>0</td>\n",
       "      <td>231000.0</td>\n",
       "      <td>0.80</td>\n",
       "      <td>143</td>\n",
       "      <td>0</td>\n",
       "      <td>0</td>\n",
       "      <td>215</td>\n",
       "    </tr>\n",
       "    <tr>\n",
       "      <th>192</th>\n",
       "      <td>50.0</td>\n",
       "      <td>1</td>\n",
       "      <td>40</td>\n",
       "      <td>0</td>\n",
       "      <td>260000.0</td>\n",
       "      <td>0.70</td>\n",
       "      <td>130</td>\n",
       "      <td>1</td>\n",
       "      <td>0</td>\n",
       "      <td>175</td>\n",
       "    </tr>\n",
       "    <tr>\n",
       "      <th>117</th>\n",
       "      <td>85.0</td>\n",
       "      <td>0</td>\n",
       "      <td>60</td>\n",
       "      <td>0</td>\n",
       "      <td>507000.0</td>\n",
       "      <td>3.20</td>\n",
       "      <td>138</td>\n",
       "      <td>0</td>\n",
       "      <td>0</td>\n",
       "      <td>94</td>\n",
       "    </tr>\n",
       "    <tr>\n",
       "      <th>47</th>\n",
       "      <td>60.0</td>\n",
       "      <td>1</td>\n",
       "      <td>38</td>\n",
       "      <td>1</td>\n",
       "      <td>451000.0</td>\n",
       "      <td>0.60</td>\n",
       "      <td>138</td>\n",
       "      <td>1</td>\n",
       "      <td>1</td>\n",
       "      <td>40</td>\n",
       "    </tr>\n",
       "    <tr>\n",
       "      <th>172</th>\n",
       "      <td>70.0</td>\n",
       "      <td>0</td>\n",
       "      <td>60</td>\n",
       "      <td>1</td>\n",
       "      <td>176000.0</td>\n",
       "      <td>1.10</td>\n",
       "      <td>145</td>\n",
       "      <td>1</td>\n",
       "      <td>1</td>\n",
       "      <td>146</td>\n",
       "    </tr>\n",
       "  </tbody>\n",
       "</table>\n",
       "<p>239 rows × 10 columns</p>\n",
       "</div>"
      ],
      "text/plain": [
       "      age  diabetes  ejection_fraction  high_blood_pressure  platelets  \\\n",
       "134  81.0         0                 35                    0   231000.0   \n",
       "145  50.0         0                 30                    0   266000.0   \n",
       "63   45.0         0                 35                    0   385000.0   \n",
       "292  52.0         1                 38                    0   382000.0   \n",
       "284  50.0         0                 40                    0   279000.0   \n",
       "..    ...       ...                ...                  ...        ...   \n",
       "251  55.0         1                 35                    0   231000.0   \n",
       "192  50.0         1                 40                    0   260000.0   \n",
       "117  85.0         0                 60                    0   507000.0   \n",
       "47   60.0         1                 38                    1   451000.0   \n",
       "172  70.0         0                 60                    1   176000.0   \n",
       "\n",
       "     serum_creatinine  serum_sodium  sex  smoking  time  \n",
       "134              1.18           137    1        1   107  \n",
       "145              0.70           141    1        1   112  \n",
       "63               1.00           145    1        0    61  \n",
       "292              1.00           140    1        1   258  \n",
       "284              0.80           141    1        0   250  \n",
       "..                ...           ...  ...      ...   ...  \n",
       "251              0.80           143    0        0   215  \n",
       "192              0.70           130    1        0   175  \n",
       "117              3.20           138    0        0    94  \n",
       "47               0.60           138    1        1    40  \n",
       "172              1.10           145    1        1   146  \n",
       "\n",
       "[239 rows x 10 columns]"
      ]
     },
     "execution_count": 14,
     "metadata": {},
     "output_type": "execute_result"
    }
   ],
   "source": [
    "X_train"
   ]
  },
  {
   "cell_type": "code",
   "execution_count": 15,
   "metadata": {},
   "outputs": [
    {
     "data": {
      "text/plain": [
       "134    0\n",
       "145    0\n",
       "63     1\n",
       "292    0\n",
       "284    0\n",
       "      ..\n",
       "251    0\n",
       "192    0\n",
       "117    0\n",
       "47     1\n",
       "172    0\n",
       "Name: DEATH_EVENT, Length: 239, dtype: int64"
      ]
     },
     "execution_count": 15,
     "metadata": {},
     "output_type": "execute_result"
    }
   ],
   "source": [
    "Y_train"
   ]
  },
  {
   "cell_type": "code",
   "execution_count": 16,
   "metadata": {},
   "outputs": [],
   "source": [
    "#from sklearn.preprocessing import StandardScaler\n",
    "\n",
    "#std_scalar = StandardScaler()\n",
    "#std_scalar.fit_transform(X_train) \n",
    "#std_scalar.transform(X_test) "
   ]
  },
  {
   "cell_type": "code",
   "execution_count": 17,
   "metadata": {},
   "outputs": [
    {
     "data": {
      "text/plain": [
       "array([[0.        , 0.        , 0.54166667, 0.        , 0.24354467,\n",
       "        0.03370787, 0.8       , 0.        , 0.        , 0.66304348],\n",
       "       [0.38272222, 1.        , 0.54166667, 1.        , 0.21323797,\n",
       "        0.05617978, 0.65714286, 0.        , 0.        , 0.60869565],\n",
       "       [0.09259259, 0.        , 0.33333333, 0.        , 0.13444054,\n",
       "        0.06741573, 0.68571429, 1.        , 0.        , 0.02536232],\n",
       "       [0.27777778, 1.        , 0.4375    , 1.        , 0.41932355,\n",
       "        0.02247191, 0.77142857, 0.        , 0.        , 0.69927536],\n",
       "       [0.55555556, 0.        , 0.33333333, 0.        , 0.17929446,\n",
       "        0.07865169, 0.54285714, 1.        , 0.        , 0.74637681],\n",
       "       [0.46296296, 1.        , 0.95833333, 0.        , 0.17808219,\n",
       "        0.04494382, 0.68571429, 0.        , 0.        , 0.37318841],\n",
       "       [0.46296296, 0.        , 0.22916667, 0.        , 0.25687962,\n",
       "        0.50561798, 0.48571429, 0.        , 0.        , 0.73550725],\n",
       "       [0.18518519, 1.        , 0.64583333, 0.        , 0.40841314,\n",
       "        0.05617978, 0.65714286, 0.        , 0.        , 0.66304348],\n",
       "       [0.37037037, 1.        , 1.        , 0.        , 0.28883262,\n",
       "        0.70786517, 0.94285714, 0.        , 0.        , 0.14130435],\n",
       "       [0.42592593, 0.        , 0.5       , 0.        , 0.33810159,\n",
       "        0.06741573, 0.57142857, 1.        , 1.        , 0.30434783],\n",
       "       [0.55555556, 1.        , 0.4375    , 1.        , 0.615711  ,\n",
       "        0.08988764, 0.74285714, 0.        , 0.        , 0.75362319],\n",
       "       [0.77777778, 0.        , 0.75      , 0.        , 0.02654867,\n",
       "        0.08988764, 0.65714286, 1.        , 0.        , 0.0326087 ],\n",
       "       [0.33333333, 0.        , 0.22916667, 0.        , 0.2350588 ,\n",
       "        0.07865169, 0.68571429, 1.        , 1.        , 0.60144928],\n",
       "       [0.27777778, 0.        , 0.22916667, 0.        , 0.35022427,\n",
       "        0.06741573, 0.71428571, 1.        , 0.        , 0.76086957],\n",
       "       [0.51851852, 0.        , 0.4375    , 1.        , 0.31991757,\n",
       "        0.04494382, 0.77142857, 1.        , 1.        , 0.05797101],\n",
       "       [0.53703704, 0.        , 0.125     , 0.        , 0.2920354 ,\n",
       "        0.07865169, 0.6       , 1.        , 1.        , 0.25      ],\n",
       "       [0.        , 1.        , 0.4375    , 0.        , 0.2386956 ,\n",
       "        0.05617978, 0.54285714, 1.        , 0.        , 0.86956522],\n",
       "       [0.55555556, 1.        , 0.64583333, 0.        , 0.27142684,\n",
       "        0.03370787, 0.65714286, 1.        , 1.        , 0.27536232],\n",
       "       [0.27777778, 0.        , 0.4375    , 1.        , 0.14050188,\n",
       "        0.05617978, 0.77142857, 1.        , 0.        , 0.73188406],\n",
       "       [0.22222222, 1.        , 0.33333333, 1.        , 0.37446963,\n",
       "        0.05617978, 0.82857143, 1.        , 1.        , 0.76811594],\n",
       "       [0.74074074, 1.        , 0.4375    , 0.        , 0.39386592,\n",
       "        0.17977528, 0.6       , 1.        , 0.        , 0.61594203],\n",
       "       [0.03703704, 0.        , 0.33333333, 0.        , 0.24354467,\n",
       "        0.05617978, 0.77142857, 1.        , 1.        , 0.30072464],\n",
       "       [0.37037037, 0.        , 0.54166667, 0.        , 0.23263426,\n",
       "        0.35955056, 0.6       , 1.        , 0.        , 0.33333333],\n",
       "       [0.24074074, 1.        , 0.4375    , 0.        , 0.24475694,\n",
       "        0.3258427 , 0.91428571, 1.        , 0.        , 0.36594203],\n",
       "       [0.61111111, 0.        , 0.125     , 0.        , 0.28883262,\n",
       "        0.1494382 , 0.6       , 1.        , 0.        , 0.70289855],\n",
       "       [0.37037037, 1.        , 0.95833333, 1.        , 0.29809674,\n",
       "        0.02247191, 0.65714286, 0.        , 0.        , 0.32608696],\n",
       "       [0.09259259, 0.        , 0.125     , 1.        , 0.12231786,\n",
       "        0.12359551, 0.62857143, 1.        , 0.        , 0.63768116],\n",
       "       [0.27777778, 1.        , 0.54166667, 0.        , 0.37689417,\n",
       "        0.07865169, 0.62857143, 1.        , 0.        , 0.89130435],\n",
       "       [0.40740741, 1.        , 0.5       , 1.        , 0.15747363,\n",
       "        0.06741573, 0.85714286, 1.        , 1.        , 0.96376812],\n",
       "       [0.24074074, 1.        , 0.54166667, 0.        , 0.23990787,\n",
       "        0.07865169, 0.48571429, 0.        , 0.        , 0.76086957],\n",
       "       [0.03703704, 0.        , 0.95833333, 0.        , 0.28883262,\n",
       "        0.07640449, 0.68571429, 0.        , 0.        , 0.2826087 ],\n",
       "       [0.03703704, 1.        , 0.02083333, 0.        , 0.22778519,\n",
       "        0.08988764, 0.65714286, 0.        , 0.        , 0.22101449],\n",
       "       [0.46296296, 0.        , 1.0625    , 0.        , 0.28883262,\n",
       "        0.11235955, 0.71428571, 0.        , 0.        , 0.02173913],\n",
       "       [0.37037037, 1.        , 0.5       , 0.        , 0.24596921,\n",
       "        0.02808989, 0.77142857, 0.        , 0.        , 0.32971014],\n",
       "       [0.25925926, 0.        , 1.16666667, 1.        , 0.15262456,\n",
       "        0.95505618, 0.68571429, 0.        , 0.        , 0.69565217],\n",
       "       [0.59259259, 0.        , 0.64583333, 1.        , 0.25445509,\n",
       "        0.2247191 , 0.62857143, 0.        , 0.        , 0.40217391],\n",
       "       [0.53703704, 0.        , 0.54166667, 0.        , 0.09686023,\n",
       "        0.05617978, 0.62857143, 1.        , 1.        , 0.51811594],\n",
       "       [0.46296296, 1.        , 0.22916667, 0.        , 0.29082313,\n",
       "        0.07865169, 0.65714286, 1.        , 1.        , 0.54347826],\n",
       "       [0.18518519, 0.        , 0.64583333, 0.        , 0.44841799,\n",
       "        0.12359551, 0.65714286, 1.        , 1.        , 1.01811594],\n",
       "       [0.92592593, 0.        , 0.54166667, 1.        , 0.21687477,\n",
       "        0.17977528, 0.54285714, 1.        , 1.        , 0.01449275],\n",
       "       [0.51851852, 1.        , 0.95833333, 0.        , 0.22172385,\n",
       "        0.05617978, 0.77142857, 0.        , 0.        , 0.8442029 ],\n",
       "       [0.31481481, 0.        , 0.22916667, 1.        , 0.18899261,\n",
       "        0.06741573, 0.88571429, 1.        , 0.        , 0.27173913],\n",
       "       [0.5       , 0.        , 0.75      , 0.        , 0.28883262,\n",
       "        0.07640449, 0.68571429, 1.        , 1.        , 0.26086957],\n",
       "       [0.46296296, 1.        , 0.75      , 1.        , 0.19747848,\n",
       "        0.05617978, 0.77142857, 1.        , 0.        , 0.09057971],\n",
       "       [1.01851852, 0.        , 0.33333333, 0.        , 0.52842769,\n",
       "        0.16853933, 0.54285714, 1.        , 0.        , 0.16666667],\n",
       "       [0.18518519, 0.        , 0.33333333, 1.        , 0.22536065,\n",
       "        0.03370787, 0.71428571, 1.        , 0.        , 0.37681159],\n",
       "       [0.24074074, 0.        , 0.64583333, 0.        , 0.33931386,\n",
       "        0.06741573, 0.68571429, 1.        , 1.        , 0.74275362],\n",
       "       [0.09259259, 0.        , 1.375     , 0.        , 0.28883262,\n",
       "        0.07640449, 0.68571429, 0.        , 0.        , 0.21376812],\n",
       "       [0.37037037, 1.        , 0.95833333, 0.        , 0.51994181,\n",
       "        0.06741573, 0.51428571, 1.        , 1.        , 0.02173913],\n",
       "       [0.18518519, 1.        , 0.5       , 0.        , 0.3453752 ,\n",
       "        0.15730337, 0.62857143, 1.        , 1.        , 0.11231884],\n",
       "       [0.46296296, 1.        , 0.75      , 0.        , 0.15020002,\n",
       "        0.08988764, 0.68571429, 1.        , 1.        , 0.24637681],\n",
       "       [0.37037037, 0.        , 0.4375    , 0.        , 0.13080373,\n",
       "        0.1011236 , 0.74285714, 1.        , 0.        , 0.92028986],\n",
       "       [0.18518519, 0.        , 0.125     , 0.        , 0.19869075,\n",
       "        0.03370787, 0.74285714, 1.        , 0.        , 0.51449275],\n",
       "       [0.27777778, 0.        , 0.64583333, 0.        , 0.28839859,\n",
       "        0.08988764, 0.68571429, 1.        , 0.        , 0.30434783],\n",
       "       [0.59259259, 1.        , 0.125     , 1.        , 0.27748818,\n",
       "        0.08988764, 0.65714286, 1.        , 1.        , 0.19927536],\n",
       "       [0.37037037, 0.        , 0.33333333, 0.        , 0.04473269,\n",
       "        0.13483146, 0.4       , 0.        , 0.        , 0.73550725],\n",
       "       [0.46296296, 1.        , 0.54166667, 0.        , 0.29688447,\n",
       "        0.05617978, 0.71428571, 0.        , 0.        , 0.49275362],\n",
       "       [1.01851852, 0.        , 0.54166667, 1.        , 0.20717663,\n",
       "        0.05617978, 0.71428571, 0.        , 0.        , 0.07246377],\n",
       "       [0.46296296, 0.        , 0.5       , 0.        , 0.28883262,\n",
       "        0.06741573, 0.71428571, 1.        , 1.        , 0.89130435],\n",
       "       [0.18518519, 1.        , 0.4375    , 0.        , 0.28883262,\n",
       "        0.07640449, 0.68571429, 1.        , 1.        , 0.41666667]])"
      ]
     },
     "execution_count": 17,
     "metadata": {},
     "output_type": "execute_result"
    }
   ],
   "source": [
    "from sklearn.preprocessing import MinMaxScaler\n",
    "\n",
    "min_scalar = MinMaxScaler()\n",
    "min_scalar.fit_transform(X_train) \n",
    "min_scalar.transform(X_test) "
   ]
  },
  {
   "cell_type": "markdown",
   "metadata": {},
   "source": [
    "Logistic Regression Algorithm"
   ]
  },
  {
   "cell_type": "code",
   "execution_count": 18,
   "metadata": {},
   "outputs": [],
   "source": [
    "#Model Development and Prediction\n",
    "\n",
    "#sklearn model to load Logistic regression package\n",
    "from sklearn.linear_model import LogisticRegression\n",
    "#max_iter=1200000, dual=False , class_weight=\"balanced\", penalty=\"none\"\n",
    "logreg = LogisticRegression()\n",
    "\n",
    "#fit training data\n",
    "logreg.fit(X_train, Y_train)\n",
    "\n",
    "#predict unseen data on trained model\n",
    "Y_pred = logreg.predict(X_test)"
   ]
  },
  {
   "cell_type": "code",
   "execution_count": 19,
   "metadata": {},
   "outputs": [
    {
     "data": {
      "text/plain": [
       "array([0, 0, 1, 0, 0, 0, 0, 0, 0, 0, 0, 1, 0, 0, 1, 1, 0, 0, 0, 0, 0, 0,\n",
       "       0, 0, 0, 0, 0, 0, 0, 0, 0, 1, 0, 0, 0, 0, 0, 0, 0, 1, 0, 1, 0, 0,\n",
       "       1, 0, 0, 0, 0, 0, 0, 0, 0, 0, 1, 0, 0, 1, 0, 0], dtype=int64)"
      ]
     },
     "execution_count": 19,
     "metadata": {},
     "output_type": "execute_result"
    }
   ],
   "source": [
    "Y_pred"
   ]
  },
  {
   "cell_type": "code",
   "execution_count": 20,
   "metadata": {},
   "outputs": [],
   "source": [
    "from sklearn.metrics import confusion_matrix"
   ]
  },
  {
   "cell_type": "code",
   "execution_count": 21,
   "metadata": {},
   "outputs": [],
   "source": [
    "conf_matrix = confusion_matrix(Y_test, Y_pred)"
   ]
  },
  {
   "cell_type": "code",
   "execution_count": 22,
   "metadata": {},
   "outputs": [
    {
     "data": {
      "text/plain": [
       "array([[36,  1],\n",
       "       [14,  9]], dtype=int64)"
      ]
     },
     "execution_count": 22,
     "metadata": {},
     "output_type": "execute_result"
    }
   ],
   "source": [
    "conf_matrix"
   ]
  },
  {
   "cell_type": "code",
   "execution_count": 23,
   "metadata": {},
   "outputs": [
    {
     "data": {
      "text/plain": [
       "0.75"
      ]
     },
     "execution_count": 23,
     "metadata": {},
     "output_type": "execute_result"
    }
   ],
   "source": [
    "from sklearn.metrics import accuracy_score\n",
    "accuracy = accuracy_score(Y_test, Y_pred)\n",
    "accuracy"
   ]
  },
  {
   "cell_type": "code",
   "execution_count": 24,
   "metadata": {},
   "outputs": [
    {
     "data": {
      "text/plain": [
       "0.9"
      ]
     },
     "execution_count": 24,
     "metadata": {},
     "output_type": "execute_result"
    }
   ],
   "source": [
    "from sklearn.metrics import precision_score\n",
    "precision = precision_score(Y_test, Y_pred)\n",
    "precision"
   ]
  },
  {
   "cell_type": "code",
   "execution_count": 25,
   "metadata": {},
   "outputs": [
    {
     "data": {
      "text/plain": [
       "0.391304347826087"
      ]
     },
     "execution_count": 25,
     "metadata": {},
     "output_type": "execute_result"
    }
   ],
   "source": [
    "from sklearn.metrics import recall_score\n",
    "recall = recall_score(Y_test, Y_pred)\n",
    "recall"
   ]
  },
  {
   "cell_type": "code",
   "execution_count": 26,
   "metadata": {},
   "outputs": [
    {
     "data": {
      "image/png": "[encoded data removed]",
      "text/plain": [
       "<Figure size 432x288 with 1 Axes>"
      ]
     },
     "metadata": {
      "needs_background": "light"
     },
     "output_type": "display_data"
    }
   ],
   "source": [
    "from sklearn.metrics import roc_curve\n",
    "import matplotlib.pyplot as plt\n",
    "\n",
    "Y_pred_proba = logreg.predict_proba(X_test)[::,1]\n",
    "fpr, tpr, _ = roc_curve(Y_test,  Y_pred)\n",
    "auc = roc_auc_score(Y_test, Y_pred)\n",
    "plt.plot(fpr,tpr,label=\"data 1, auc=\"+str(auc))\n",
    "plt.xlabel(\"False Positives\")\n",
    "plt.ylabel(\"True Positives\")\n",
    "plt.legend(loc=4)\n",
    "plt.show()"
   ]
  },
  {
   "cell_type": "markdown",
   "metadata": {},
   "source": [
    "Naive Bayes Algorithm"
   ]
  },
  {
   "cell_type": "code",
   "execution_count": 27,
   "metadata": {},
   "outputs": [],
   "source": [
    "#Model development and prediction\n",
    "\n",
    "#sklearn model to load Naive bayes package\n",
    "from sklearn.naive_bayes import GaussianNB #binary\n",
    "from sklearn.naive_bayes import MultinomialNB  #multiclass\n",
    "from sklearn.naive_bayes import BernoulliNB\n",
    "\n",
    "naive =GaussianNB()\n",
    "\n",
    "#Fit training data \n",
    "naive.fit(X_train, Y_train)\n",
    "\n",
    "#Predict unseen data on trained model\n",
    "Y_pred = naive.predict(X_test)"
   ]
  },
  {
   "cell_type": "code",
   "execution_count": 28,
   "metadata": {},
   "outputs": [
    {
     "data": {
      "text/plain": [
       "array([0, 0, 1, 0, 0, 0, 0, 0, 0, 0, 0, 1, 0, 0, 1, 1, 0, 0, 0, 0, 0, 0,\n",
       "       0, 0, 0, 0, 0, 0, 0, 0, 0, 1, 0, 0, 0, 0, 0, 0, 0, 1, 0, 1, 0, 0,\n",
       "       1, 0, 0, 0, 0, 1, 0, 0, 0, 0, 1, 0, 0, 1, 0, 0], dtype=int64)"
      ]
     },
     "execution_count": 28,
     "metadata": {},
     "output_type": "execute_result"
    }
   ],
   "source": [
    "Y_pred"
   ]
  },
  {
   "cell_type": "code",
   "execution_count": 29,
   "metadata": {},
   "outputs": [],
   "source": [
    "from sklearn.metrics import confusion_matrix"
   ]
  },
  {
   "cell_type": "code",
   "execution_count": 30,
   "metadata": {},
   "outputs": [],
   "source": [
    "conf_matrix = confusion_matrix(Y_test, Y_pred)"
   ]
  },
  {
   "cell_type": "code",
   "execution_count": 31,
   "metadata": {},
   "outputs": [
    {
     "data": {
      "text/plain": [
       "array([[36,  1],\n",
       "       [13, 10]], dtype=int64)"
      ]
     },
     "execution_count": 31,
     "metadata": {},
     "output_type": "execute_result"
    }
   ],
   "source": [
    "conf_matrix"
   ]
  },
  {
   "cell_type": "code",
   "execution_count": 32,
   "metadata": {},
   "outputs": [
    {
     "data": {
      "text/plain": [
       "0.7666666666666667"
      ]
     },
     "execution_count": 32,
     "metadata": {},
     "output_type": "execute_result"
    }
   ],
   "source": [
    "from sklearn.metrics import accuracy_score\n",
    "accuracy = accuracy_score(Y_test, Y_pred)\n",
    "accuracy"
   ]
  },
  {
   "cell_type": "code",
   "execution_count": 33,
   "metadata": {},
   "outputs": [
    {
     "data": {
      "text/plain": [
       "0.9090909090909091"
      ]
     },
     "execution_count": 33,
     "metadata": {},
     "output_type": "execute_result"
    }
   ],
   "source": [
    "from sklearn.metrics import precision_score\n",
    "precision = precision_score(Y_test, Y_pred)\n",
    "precision"
   ]
  },
  {
   "cell_type": "code",
   "execution_count": 34,
   "metadata": {},
   "outputs": [
    {
     "data": {
      "text/plain": [
       "0.43478260869565216"
      ]
     },
     "execution_count": 34,
     "metadata": {},
     "output_type": "execute_result"
    }
   ],
   "source": [
    "from sklearn.metrics import recall_score\n",
    "recall = recall_score(Y_test, Y_pred)\n",
    "recall"
   ]
  },
  {
   "cell_type": "code",
   "execution_count": 35,
   "metadata": {},
   "outputs": [
    {
     "data": {
      "image/png": "[encoded data removed]",
      "text/plain": [
       "<Figure size 432x288 with 1 Axes>"
      ]
     },
     "metadata": {
      "needs_background": "light"
     },
     "output_type": "display_data"
    }
   ],
   "source": [
    "from sklearn.metrics import roc_curve\n",
    "import matplotlib.pyplot as plt\n",
    "\n",
    "Y_pred_proba = logreg.predict_proba(X_test)[::,1]\n",
    "fpr, tpr, _ = roc_curve(Y_test,  Y_pred)\n",
    "auc = roc_auc_score(Y_test, Y_pred)\n",
    "plt.plot(fpr,tpr,label=\"data 1, auc=\"+str(auc))\n",
    "plt.xlabel(\"False Positives\")\n",
    "plt.ylabel(\"True Positives\")\n",
    "plt.legend(loc=4)\n",
    "plt.show()"
   ]
  },
  {
   "cell_type": "markdown",
   "metadata": {},
   "source": [
    "Decision Tree Algorithm"
   ]
  },
  {
   "cell_type": "code",
   "execution_count": 36,
   "metadata": {},
   "outputs": [],
   "source": [
    "#sklearn model to load Decision tree package\n",
    "from sklearn.tree import DecisionTreeClassifier  \n",
    "#max_iter=1200000, dual=False , class_weight=\"balanced\", penalty=\"none\"\n",
    "ds_clss = DecisionTreeClassifier()\n",
    "\n",
    "#Fit training data \n",
    "ds_clss.fit(X_train, Y_train)\n",
    "\n",
    "#Predict unseen data on trained model\n",
    "Y_pred = ds_clss.predict(X_test)"
   ]
  },
  {
   "cell_type": "code",
   "execution_count": 37,
   "metadata": {},
   "outputs": [
    {
     "data": {
      "text/plain": [
       "array([0, 0, 0, 0, 0, 0, 1, 0, 1, 0, 0, 0, 0, 0, 1, 1, 0, 0, 0, 1, 1, 0,\n",
       "       0, 0, 1, 0, 0, 1, 1, 0, 0, 1, 0, 0, 0, 0, 0, 0, 0, 1, 0, 1, 0, 1,\n",
       "       1, 0, 0, 0, 0, 1, 0, 0, 0, 0, 1, 1, 0, 1, 0, 0], dtype=int64)"
      ]
     },
     "execution_count": 37,
     "metadata": {},
     "output_type": "execute_result"
    }
   ],
   "source": [
    "Y_pred"
   ]
  },
  {
   "cell_type": "code",
   "execution_count": 38,
   "metadata": {},
   "outputs": [],
   "source": [
    "from sklearn.metrics import confusion_matrix"
   ]
  },
  {
   "cell_type": "code",
   "execution_count": 39,
   "metadata": {},
   "outputs": [],
   "source": [
    "conf_matrix = confusion_matrix(Y_test, Y_pred)"
   ]
  },
  {
   "cell_type": "code",
   "execution_count": 40,
   "metadata": {},
   "outputs": [
    {
     "data": {
      "text/plain": [
       "array([[31,  6],\n",
       "       [11, 12]], dtype=int64)"
      ]
     },
     "execution_count": 40,
     "metadata": {},
     "output_type": "execute_result"
    }
   ],
   "source": [
    "conf_matrix"
   ]
  },
  {
   "cell_type": "code",
   "execution_count": 41,
   "metadata": {},
   "outputs": [
    {
     "data": {
      "text/plain": [
       "0.7166666666666667"
      ]
     },
     "execution_count": 41,
     "metadata": {},
     "output_type": "execute_result"
    }
   ],
   "source": [
    "from sklearn.metrics import accuracy_score\n",
    "accuracy = accuracy_score(Y_test, Y_pred)\n",
    "accuracy"
   ]
  },
  {
   "cell_type": "code",
   "execution_count": 42,
   "metadata": {},
   "outputs": [
    {
     "data": {
      "text/plain": [
       "0.6666666666666666"
      ]
     },
     "execution_count": 42,
     "metadata": {},
     "output_type": "execute_result"
    }
   ],
   "source": [
    "from sklearn.metrics import precision_score\n",
    "precision = precision_score(Y_test, Y_pred)\n",
    "precision"
   ]
  },
  {
   "cell_type": "code",
   "execution_count": 43,
   "metadata": {},
   "outputs": [
    {
     "data": {
      "text/plain": [
       "0.5217391304347826"
      ]
     },
     "execution_count": 43,
     "metadata": {},
     "output_type": "execute_result"
    }
   ],
   "source": [
    "from sklearn.metrics import recall_score\n",
    "recall = recall_score(Y_test, Y_pred)\n",
    "recall"
   ]
  },
  {
   "cell_type": "code",
   "execution_count": 44,
   "metadata": {},
   "outputs": [
    {
     "data": {
      "image/png": "[encoded data removed]",
      "text/plain": [
       "<Figure size 432x288 with 1 Axes>"
      ]
     },
     "metadata": {
      "needs_background": "light"
     },
     "output_type": "display_data"
    }
   ],
   "source": [
    "from sklearn.metrics import roc_curve\n",
    "import matplotlib.pyplot as plt\n",
    "\n",
    "Y_pred_proba = logreg.predict_proba(X_test)[::,1]\n",
    "fpr, tpr, _ = roc_curve(Y_test,  Y_pred)\n",
    "auc = roc_auc_score(Y_test, Y_pred)\n",
    "plt.plot(fpr,tpr,label=\"data 1, auc=\"+str(auc))\n",
    "plt.xlabel(\"False Positives\")\n",
    "plt.ylabel(\"True Positives\")\n",
    "plt.legend(loc=4)\n",
    "plt.show()"
   ]
  },
  {
   "cell_type": "code",
   "execution_count": null,
   "metadata": {},
   "outputs": [],
   "source": []
  }
 ],
 "metadata": {
  "kernelspec": {
   "display_name": "Python 3",
   "language": "python",
   "name": "python3"
  },
  "language_info": {
   "codemirror_mode": {
    "name": "ipython",
    "version": 3
   },
   "file_extension": ".py",
   "mimetype": "text/x-python",
   "name": "python",
   "nbconvert_exporter": "python",
   "pygments_lexer": "ipython3",
   "version": "3.7.6"
  }
 },
 "nbformat": 4,
 "nbformat_minor": 4
}
