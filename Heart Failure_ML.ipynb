{
 "cells": [
  {
   "cell_type": "code",
   "execution_count": 1,
   "metadata": {},
   "outputs": [],
   "source": [
    "#Importing Python Modules Pandas, Numpy, Seaborn and MetaplotLib\n",
    "import numpy as np\n",
    "import pandas as pd\n",
    "import seaborn as sns\n",
    "import matplotlib.pyplot as plt"
   ]
  },
  {
   "cell_type": "code",
   "execution_count": 2,
   "metadata": {},
   "outputs": [],
   "source": [
    "#Loading HCV dataset into variable df by using pandas\n",
    "df = pd.read_csv(\"F:\\Data Science Course\\Joyita\\Heart Failure - CBV\\heart_failure_clinical_records.csv\")"
   ]
  },
  {
   "cell_type": "code",
   "execution_count": 3,
   "metadata": {},
   "outputs": [
    {
     "data": {
      "text/html": [
       "<div>\n",
       "<style scoped>\n",
       "    .dataframe tbody tr th:only-of-type {\n",
       "        vertical-align: middle;\n",
       "    }\n",
       "\n",
       "    .dataframe tbody tr th {\n",
       "        vertical-align: top;\n",
       "    }\n",
       "\n",
       "    .dataframe thead th {\n",
       "        text-align: right;\n",
       "    }\n",
       "</style>\n",
       "<table border=\"1\" class=\"dataframe\">\n",
       "  <thead>\n",
       "    <tr style=\"text-align: right;\">\n",
       "      <th></th>\n",
       "      <th>age</th>\n",
       "      <th>anaemia</th>\n",
       "      <th>creatinine_phosphokinase</th>\n",
       "      <th>diabetes</th>\n",
       "      <th>ejection_fraction</th>\n",
       "      <th>high_blood_pressure</th>\n",
       "      <th>platelets</th>\n",
       "      <th>serum_creatinine</th>\n",
       "      <th>serum_sodium</th>\n",
       "      <th>sex</th>\n",
       "      <th>smoking</th>\n",
       "      <th>time</th>\n",
       "      <th>DEATH_EVENT</th>\n",
       "    </tr>\n",
       "  </thead>\n",
       "  <tbody>\n",
       "    <tr>\n",
       "      <th>0</th>\n",
       "      <td>75.0</td>\n",
       "      <td>0</td>\n",
       "      <td>582</td>\n",
       "      <td>0</td>\n",
       "      <td>20</td>\n",
       "      <td>1</td>\n",
       "      <td>265000.00</td>\n",
       "      <td>1.9</td>\n",
       "      <td>130</td>\n",
       "      <td>1</td>\n",
       "      <td>0</td>\n",
       "      <td>4</td>\n",
       "      <td>1</td>\n",
       "    </tr>\n",
       "    <tr>\n",
       "      <th>1</th>\n",
       "      <td>55.0</td>\n",
       "      <td>0</td>\n",
       "      <td>7861</td>\n",
       "      <td>0</td>\n",
       "      <td>38</td>\n",
       "      <td>0</td>\n",
       "      <td>263358.03</td>\n",
       "      <td>1.1</td>\n",
       "      <td>136</td>\n",
       "      <td>1</td>\n",
       "      <td>0</td>\n",
       "      <td>6</td>\n",
       "      <td>1</td>\n",
       "    </tr>\n",
       "    <tr>\n",
       "      <th>2</th>\n",
       "      <td>65.0</td>\n",
       "      <td>0</td>\n",
       "      <td>146</td>\n",
       "      <td>0</td>\n",
       "      <td>20</td>\n",
       "      <td>0</td>\n",
       "      <td>162000.00</td>\n",
       "      <td>1.3</td>\n",
       "      <td>129</td>\n",
       "      <td>1</td>\n",
       "      <td>1</td>\n",
       "      <td>7</td>\n",
       "      <td>1</td>\n",
       "    </tr>\n",
       "    <tr>\n",
       "      <th>3</th>\n",
       "      <td>50.0</td>\n",
       "      <td>1</td>\n",
       "      <td>111</td>\n",
       "      <td>0</td>\n",
       "      <td>20</td>\n",
       "      <td>0</td>\n",
       "      <td>210000.00</td>\n",
       "      <td>1.9</td>\n",
       "      <td>137</td>\n",
       "      <td>1</td>\n",
       "      <td>0</td>\n",
       "      <td>7</td>\n",
       "      <td>1</td>\n",
       "    </tr>\n",
       "    <tr>\n",
       "      <th>4</th>\n",
       "      <td>65.0</td>\n",
       "      <td>1</td>\n",
       "      <td>160</td>\n",
       "      <td>1</td>\n",
       "      <td>20</td>\n",
       "      <td>0</td>\n",
       "      <td>327000.00</td>\n",
       "      <td>2.7</td>\n",
       "      <td>116</td>\n",
       "      <td>0</td>\n",
       "      <td>0</td>\n",
       "      <td>8</td>\n",
       "      <td>1</td>\n",
       "    </tr>\n",
       "  </tbody>\n",
       "</table>\n",
       "</div>"
      ],
      "text/plain": [
       "    age  anaemia  creatinine_phosphokinase  diabetes  ejection_fraction  \\\n",
       "0  75.0        0                       582         0                 20   \n",
       "1  55.0        0                      7861         0                 38   \n",
       "2  65.0        0                       146         0                 20   \n",
       "3  50.0        1                       111         0                 20   \n",
       "4  65.0        1                       160         1                 20   \n",
       "\n",
       "   high_blood_pressure  platelets  serum_creatinine  serum_sodium  sex  \\\n",
       "0                    1  265000.00               1.9           130    1   \n",
       "1                    0  263358.03               1.1           136    1   \n",
       "2                    0  162000.00               1.3           129    1   \n",
       "3                    0  210000.00               1.9           137    1   \n",
       "4                    0  327000.00               2.7           116    0   \n",
       "\n",
       "   smoking  time  DEATH_EVENT  \n",
       "0        0     4            1  \n",
       "1        0     6            1  \n",
       "2        1     7            1  \n",
       "3        0     7            1  \n",
       "4        0     8            1  "
      ]
     },
     "execution_count": 3,
     "metadata": {},
     "output_type": "execute_result"
    }
   ],
   "source": [
    "#To view first 5 rows of the dataset\n",
    "df.head()"
   ]
  },
  {
   "cell_type": "code",
   "execution_count": 4,
   "metadata": {},
   "outputs": [
    {
     "data": {
      "text/plain": [
       "age                         0\n",
       "anaemia                     0\n",
       "creatinine_phosphokinase    0\n",
       "diabetes                    0\n",
       "ejection_fraction           0\n",
       "high_blood_pressure         0\n",
       "platelets                   0\n",
       "serum_creatinine            0\n",
       "serum_sodium                0\n",
       "sex                         0\n",
       "smoking                     0\n",
       "time                        0\n",
       "DEATH_EVENT                 0\n",
       "dtype: int64"
      ]
     },
     "execution_count": 4,
     "metadata": {},
     "output_type": "execute_result"
    }
   ],
   "source": [
    "df.isnull().sum()"
   ]
  },
  {
   "cell_type": "code",
   "execution_count": 5,
   "metadata": {},
   "outputs": [
    {
     "data": {
      "text/plain": [
       "0    203\n",
       "1     96\n",
       "Name: DEATH_EVENT, dtype: int64"
      ]
     },
     "execution_count": 5,
     "metadata": {},
     "output_type": "execute_result"
    }
   ],
   "source": [
    "df[\"DEATH_EVENT\"].value_counts()"
   ]
  },
  {
   "cell_type": "code",
   "execution_count": 6,
   "metadata": {},
   "outputs": [
    {
     "data": {
      "text/html": [
       "<div>\n",
       "<style scoped>\n",
       "    .dataframe tbody tr th:only-of-type {\n",
       "        vertical-align: middle;\n",
       "    }\n",
       "\n",
       "    .dataframe tbody tr th {\n",
       "        vertical-align: top;\n",
       "    }\n",
       "\n",
       "    .dataframe thead th {\n",
       "        text-align: right;\n",
       "    }\n",
       "</style>\n",
       "<table border=\"1\" class=\"dataframe\">\n",
       "  <thead>\n",
       "    <tr style=\"text-align: right;\">\n",
       "      <th></th>\n",
       "      <th>anaemia</th>\n",
       "      <th>creatinine_phosphokinase</th>\n",
       "      <th>diabetes</th>\n",
       "      <th>ejection_fraction</th>\n",
       "      <th>high_blood_pressure</th>\n",
       "      <th>platelets</th>\n",
       "      <th>serum_creatinine</th>\n",
       "      <th>sex</th>\n",
       "      <th>smoking</th>\n",
       "      <th>time</th>\n",
       "      <th>DEATH_EVENT</th>\n",
       "    </tr>\n",
       "  </thead>\n",
       "  <tbody>\n",
       "    <tr>\n",
       "      <th>0</th>\n",
       "      <td>0</td>\n",
       "      <td>582</td>\n",
       "      <td>0</td>\n",
       "      <td>20</td>\n",
       "      <td>1</td>\n",
       "      <td>265000.00</td>\n",
       "      <td>1.9</td>\n",
       "      <td>1</td>\n",
       "      <td>0</td>\n",
       "      <td>4</td>\n",
       "      <td>1</td>\n",
       "    </tr>\n",
       "    <tr>\n",
       "      <th>1</th>\n",
       "      <td>0</td>\n",
       "      <td>7861</td>\n",
       "      <td>0</td>\n",
       "      <td>38</td>\n",
       "      <td>0</td>\n",
       "      <td>263358.03</td>\n",
       "      <td>1.1</td>\n",
       "      <td>1</td>\n",
       "      <td>0</td>\n",
       "      <td>6</td>\n",
       "      <td>1</td>\n",
       "    </tr>\n",
       "    <tr>\n",
       "      <th>2</th>\n",
       "      <td>0</td>\n",
       "      <td>146</td>\n",
       "      <td>0</td>\n",
       "      <td>20</td>\n",
       "      <td>0</td>\n",
       "      <td>162000.00</td>\n",
       "      <td>1.3</td>\n",
       "      <td>1</td>\n",
       "      <td>1</td>\n",
       "      <td>7</td>\n",
       "      <td>1</td>\n",
       "    </tr>\n",
       "    <tr>\n",
       "      <th>3</th>\n",
       "      <td>1</td>\n",
       "      <td>111</td>\n",
       "      <td>0</td>\n",
       "      <td>20</td>\n",
       "      <td>0</td>\n",
       "      <td>210000.00</td>\n",
       "      <td>1.9</td>\n",
       "      <td>1</td>\n",
       "      <td>0</td>\n",
       "      <td>7</td>\n",
       "      <td>1</td>\n",
       "    </tr>\n",
       "    <tr>\n",
       "      <th>4</th>\n",
       "      <td>1</td>\n",
       "      <td>160</td>\n",
       "      <td>1</td>\n",
       "      <td>20</td>\n",
       "      <td>0</td>\n",
       "      <td>327000.00</td>\n",
       "      <td>2.7</td>\n",
       "      <td>0</td>\n",
       "      <td>0</td>\n",
       "      <td>8</td>\n",
       "      <td>1</td>\n",
       "    </tr>\n",
       "  </tbody>\n",
       "</table>\n",
       "</div>"
      ],
      "text/plain": [
       "   anaemia  creatinine_phosphokinase  diabetes  ejection_fraction  \\\n",
       "0        0                       582         0                 20   \n",
       "1        0                      7861         0                 38   \n",
       "2        0                       146         0                 20   \n",
       "3        1                       111         0                 20   \n",
       "4        1                       160         1                 20   \n",
       "\n",
       "   high_blood_pressure  platelets  serum_creatinine  sex  smoking  time  \\\n",
       "0                    1  265000.00               1.9    1        0     4   \n",
       "1                    0  263358.03               1.1    1        0     6   \n",
       "2                    0  162000.00               1.3    1        1     7   \n",
       "3                    0  210000.00               1.9    1        0     7   \n",
       "4                    0  327000.00               2.7    0        0     8   \n",
       "\n",
       "   DEATH_EVENT  \n",
       "0            1  \n",
       "1            1  \n",
       "2            1  \n",
       "3            1  \n",
       "4            1  "
      ]
     },
     "execution_count": 6,
     "metadata": {},
     "output_type": "execute_result"
    }
   ],
   "source": [
    "df.drop([\"age\", \"serum_sodium\"], axis=1, inplace=True)\n",
    "df.head()"
   ]
  },
  {
   "cell_type": "markdown",
   "metadata": {},
   "source": [
    "Calculating VIF \n",
    "Ideally VIF should be less than or equal to 5"
   ]
  },
  {
   "cell_type": "code",
   "execution_count": 7,
   "metadata": {},
   "outputs": [],
   "source": [
    "# Import Library for VIF\n",
    "from statsmodels.stats.outliers_influence import variance_inflation_factor\n",
    "\n",
    "def calc_vif(X):\n",
    "\n",
    "    #Calculating VIF\n",
    "    vif=pd.DataFrame()\n",
    "    vif[\"variables\"] = X.columns\n",
    "    vif[\"VIF\"] = [variance_inflation_factor(X.values, i) for i in range(X.shape[1])]\n",
    "    \n",
    "    return(vif)"
   ]
  },
  {
   "cell_type": "code",
   "execution_count": 8,
   "metadata": {},
   "outputs": [
    {
     "data": {
      "text/html": [
       "<div>\n",
       "<style scoped>\n",
       "    .dataframe tbody tr th:only-of-type {\n",
       "        vertical-align: middle;\n",
       "    }\n",
       "\n",
       "    .dataframe tbody tr th {\n",
       "        vertical-align: top;\n",
       "    }\n",
       "\n",
       "    .dataframe thead th {\n",
       "        text-align: right;\n",
       "    }\n",
       "</style>\n",
       "<table border=\"1\" class=\"dataframe\">\n",
       "  <thead>\n",
       "    <tr style=\"text-align: right;\">\n",
       "      <th></th>\n",
       "      <th>variables</th>\n",
       "      <th>VIF</th>\n",
       "    </tr>\n",
       "  </thead>\n",
       "  <tbody>\n",
       "    <tr>\n",
       "      <th>0</th>\n",
       "      <td>anaemia</td>\n",
       "      <td>1.775200</td>\n",
       "    </tr>\n",
       "    <tr>\n",
       "      <th>1</th>\n",
       "      <td>creatinine_phosphokinase</td>\n",
       "      <td>1.397940</td>\n",
       "    </tr>\n",
       "    <tr>\n",
       "      <th>2</th>\n",
       "      <td>diabetes</td>\n",
       "      <td>1.734687</td>\n",
       "    </tr>\n",
       "    <tr>\n",
       "      <th>3</th>\n",
       "      <td>ejection_fraction</td>\n",
       "      <td>7.897831</td>\n",
       "    </tr>\n",
       "    <tr>\n",
       "      <th>4</th>\n",
       "      <td>high_blood_pressure</td>\n",
       "      <td>1.561065</td>\n",
       "    </tr>\n",
       "    <tr>\n",
       "      <th>5</th>\n",
       "      <td>platelets</td>\n",
       "      <td>6.771772</td>\n",
       "    </tr>\n",
       "    <tr>\n",
       "      <th>6</th>\n",
       "      <td>serum_creatinine</td>\n",
       "      <td>2.617986</td>\n",
       "    </tr>\n",
       "    <tr>\n",
       "      <th>7</th>\n",
       "      <td>sex</td>\n",
       "      <td>3.246439</td>\n",
       "    </tr>\n",
       "    <tr>\n",
       "      <th>8</th>\n",
       "      <td>smoking</td>\n",
       "      <td>1.890053</td>\n",
       "    </tr>\n",
       "    <tr>\n",
       "      <th>9</th>\n",
       "      <td>time</td>\n",
       "      <td>3.576229</td>\n",
       "    </tr>\n",
       "  </tbody>\n",
       "</table>\n",
       "</div>"
      ],
      "text/plain": [
       "                  variables       VIF\n",
       "0                   anaemia  1.775200\n",
       "1  creatinine_phosphokinase  1.397940\n",
       "2                  diabetes  1.734687\n",
       "3         ejection_fraction  7.897831\n",
       "4       high_blood_pressure  1.561065\n",
       "5                 platelets  6.771772\n",
       "6          serum_creatinine  2.617986\n",
       "7                       sex  3.246439\n",
       "8                   smoking  1.890053\n",
       "9                      time  3.576229"
      ]
     },
     "execution_count": 8,
     "metadata": {},
     "output_type": "execute_result"
    }
   ],
   "source": [
    "X = df.iloc[:,:-1]\n",
    "calc_vif(X)"
   ]
  },
  {
   "cell_type": "code",
   "execution_count": 9,
   "metadata": {},
   "outputs": [],
   "source": [
    "#spliting independent features and target label\n",
    "X = df.iloc[:,:-1]  #independent features\n",
    "Y = df[\"DEATH_EVENT\"]  #dependent feature or target "
   ]
  },
  {
   "cell_type": "code",
   "execution_count": 10,
   "metadata": {},
   "outputs": [
    {
     "data": {
      "text/html": [
       "<div>\n",
       "<style scoped>\n",
       "    .dataframe tbody tr th:only-of-type {\n",
       "        vertical-align: middle;\n",
       "    }\n",
       "\n",
       "    .dataframe tbody tr th {\n",
       "        vertical-align: top;\n",
       "    }\n",
       "\n",
       "    .dataframe thead th {\n",
       "        text-align: right;\n",
       "    }\n",
       "</style>\n",
       "<table border=\"1\" class=\"dataframe\">\n",
       "  <thead>\n",
       "    <tr style=\"text-align: right;\">\n",
       "      <th></th>\n",
       "      <th>anaemia</th>\n",
       "      <th>creatinine_phosphokinase</th>\n",
       "      <th>diabetes</th>\n",
       "      <th>ejection_fraction</th>\n",
       "      <th>high_blood_pressure</th>\n",
       "      <th>platelets</th>\n",
       "      <th>serum_creatinine</th>\n",
       "      <th>sex</th>\n",
       "      <th>smoking</th>\n",
       "      <th>time</th>\n",
       "    </tr>\n",
       "  </thead>\n",
       "  <tbody>\n",
       "    <tr>\n",
       "      <th>0</th>\n",
       "      <td>0</td>\n",
       "      <td>582</td>\n",
       "      <td>0</td>\n",
       "      <td>20</td>\n",
       "      <td>1</td>\n",
       "      <td>265000.00</td>\n",
       "      <td>1.9</td>\n",
       "      <td>1</td>\n",
       "      <td>0</td>\n",
       "      <td>4</td>\n",
       "    </tr>\n",
       "    <tr>\n",
       "      <th>1</th>\n",
       "      <td>0</td>\n",
       "      <td>7861</td>\n",
       "      <td>0</td>\n",
       "      <td>38</td>\n",
       "      <td>0</td>\n",
       "      <td>263358.03</td>\n",
       "      <td>1.1</td>\n",
       "      <td>1</td>\n",
       "      <td>0</td>\n",
       "      <td>6</td>\n",
       "    </tr>\n",
       "    <tr>\n",
       "      <th>2</th>\n",
       "      <td>0</td>\n",
       "      <td>146</td>\n",
       "      <td>0</td>\n",
       "      <td>20</td>\n",
       "      <td>0</td>\n",
       "      <td>162000.00</td>\n",
       "      <td>1.3</td>\n",
       "      <td>1</td>\n",
       "      <td>1</td>\n",
       "      <td>7</td>\n",
       "    </tr>\n",
       "    <tr>\n",
       "      <th>3</th>\n",
       "      <td>1</td>\n",
       "      <td>111</td>\n",
       "      <td>0</td>\n",
       "      <td>20</td>\n",
       "      <td>0</td>\n",
       "      <td>210000.00</td>\n",
       "      <td>1.9</td>\n",
       "      <td>1</td>\n",
       "      <td>0</td>\n",
       "      <td>7</td>\n",
       "    </tr>\n",
       "    <tr>\n",
       "      <th>4</th>\n",
       "      <td>1</td>\n",
       "      <td>160</td>\n",
       "      <td>1</td>\n",
       "      <td>20</td>\n",
       "      <td>0</td>\n",
       "      <td>327000.00</td>\n",
       "      <td>2.7</td>\n",
       "      <td>0</td>\n",
       "      <td>0</td>\n",
       "      <td>8</td>\n",
       "    </tr>\n",
       "  </tbody>\n",
       "</table>\n",
       "</div>"
      ],
      "text/plain": [
       "   anaemia  creatinine_phosphokinase  diabetes  ejection_fraction  \\\n",
       "0        0                       582         0                 20   \n",
       "1        0                      7861         0                 38   \n",
       "2        0                       146         0                 20   \n",
       "3        1                       111         0                 20   \n",
       "4        1                       160         1                 20   \n",
       "\n",
       "   high_blood_pressure  platelets  serum_creatinine  sex  smoking  time  \n",
       "0                    1  265000.00               1.9    1        0     4  \n",
       "1                    0  263358.03               1.1    1        0     6  \n",
       "2                    0  162000.00               1.3    1        1     7  \n",
       "3                    0  210000.00               1.9    1        0     7  \n",
       "4                    0  327000.00               2.7    0        0     8  "
      ]
     },
     "execution_count": 10,
     "metadata": {},
     "output_type": "execute_result"
    }
   ],
   "source": [
    "X.head()"
   ]
  },
  {
   "cell_type": "code",
   "execution_count": 11,
   "metadata": {},
   "outputs": [
    {
     "data": {
      "text/plain": [
       "0    1\n",
       "1    1\n",
       "2    1\n",
       "3    1\n",
       "4    1\n",
       "Name: DEATH_EVENT, dtype: int64"
      ]
     },
     "execution_count": 11,
     "metadata": {},
     "output_type": "execute_result"
    }
   ],
   "source": [
    "Y.head()"
   ]
  },
  {
   "cell_type": "code",
   "execution_count": 12,
   "metadata": {},
   "outputs": [],
   "source": [
    "#SKLearn for train and test split\n",
    "\n",
    "from sklearn.model_selection import train_test_split\n",
    "from sklearn.metrics import *\n",
    "\n",
    "#train ==> i will teach my model, frame mathematical equation\n",
    "#test"
   ]
  },
  {
   "cell_type": "code",
   "execution_count": 13,
   "metadata": {},
   "outputs": [],
   "source": [
    "X_train, X_test, Y_train, Y_test = train_test_split(X,Y, train_size = 0.8, random_state = 0)"
   ]
  },
  {
   "cell_type": "code",
   "execution_count": 14,
   "metadata": {},
   "outputs": [
    {
     "data": {
      "text/html": [
       "<div>\n",
       "<style scoped>\n",
       "    .dataframe tbody tr th:only-of-type {\n",
       "        vertical-align: middle;\n",
       "    }\n",
       "\n",
       "    .dataframe tbody tr th {\n",
       "        vertical-align: top;\n",
       "    }\n",
       "\n",
       "    .dataframe thead th {\n",
       "        text-align: right;\n",
       "    }\n",
       "</style>\n",
       "<table border=\"1\" class=\"dataframe\">\n",
       "  <thead>\n",
       "    <tr style=\"text-align: right;\">\n",
       "      <th></th>\n",
       "      <th>anaemia</th>\n",
       "      <th>creatinine_phosphokinase</th>\n",
       "      <th>diabetes</th>\n",
       "      <th>ejection_fraction</th>\n",
       "      <th>high_blood_pressure</th>\n",
       "      <th>platelets</th>\n",
       "      <th>serum_creatinine</th>\n",
       "      <th>sex</th>\n",
       "      <th>smoking</th>\n",
       "      <th>time</th>\n",
       "    </tr>\n",
       "  </thead>\n",
       "  <tbody>\n",
       "    <tr>\n",
       "      <th>134</th>\n",
       "      <td>0</td>\n",
       "      <td>4540</td>\n",
       "      <td>0</td>\n",
       "      <td>35</td>\n",
       "      <td>0</td>\n",
       "      <td>231000.0</td>\n",
       "      <td>1.18</td>\n",
       "      <td>1</td>\n",
       "      <td>1</td>\n",
       "      <td>107</td>\n",
       "    </tr>\n",
       "    <tr>\n",
       "      <th>145</th>\n",
       "      <td>0</td>\n",
       "      <td>185</td>\n",
       "      <td>0</td>\n",
       "      <td>30</td>\n",
       "      <td>0</td>\n",
       "      <td>266000.0</td>\n",
       "      <td>0.70</td>\n",
       "      <td>1</td>\n",
       "      <td>1</td>\n",
       "      <td>112</td>\n",
       "    </tr>\n",
       "    <tr>\n",
       "      <th>63</th>\n",
       "      <td>0</td>\n",
       "      <td>582</td>\n",
       "      <td>0</td>\n",
       "      <td>35</td>\n",
       "      <td>0</td>\n",
       "      <td>385000.0</td>\n",
       "      <td>1.00</td>\n",
       "      <td>1</td>\n",
       "      <td>0</td>\n",
       "      <td>61</td>\n",
       "    </tr>\n",
       "    <tr>\n",
       "      <th>292</th>\n",
       "      <td>0</td>\n",
       "      <td>190</td>\n",
       "      <td>1</td>\n",
       "      <td>38</td>\n",
       "      <td>0</td>\n",
       "      <td>382000.0</td>\n",
       "      <td>1.00</td>\n",
       "      <td>1</td>\n",
       "      <td>1</td>\n",
       "      <td>258</td>\n",
       "    </tr>\n",
       "    <tr>\n",
       "      <th>284</th>\n",
       "      <td>1</td>\n",
       "      <td>54</td>\n",
       "      <td>0</td>\n",
       "      <td>40</td>\n",
       "      <td>0</td>\n",
       "      <td>279000.0</td>\n",
       "      <td>0.80</td>\n",
       "      <td>1</td>\n",
       "      <td>0</td>\n",
       "      <td>250</td>\n",
       "    </tr>\n",
       "    <tr>\n",
       "      <th>...</th>\n",
       "      <td>...</td>\n",
       "      <td>...</td>\n",
       "      <td>...</td>\n",
       "      <td>...</td>\n",
       "      <td>...</td>\n",
       "      <td>...</td>\n",
       "      <td>...</td>\n",
       "      <td>...</td>\n",
       "      <td>...</td>\n",
       "      <td>...</td>\n",
       "    </tr>\n",
       "    <tr>\n",
       "      <th>251</th>\n",
       "      <td>0</td>\n",
       "      <td>572</td>\n",
       "      <td>1</td>\n",
       "      <td>35</td>\n",
       "      <td>0</td>\n",
       "      <td>231000.0</td>\n",
       "      <td>0.80</td>\n",
       "      <td>0</td>\n",
       "      <td>0</td>\n",
       "      <td>215</td>\n",
       "    </tr>\n",
       "    <tr>\n",
       "      <th>192</th>\n",
       "      <td>1</td>\n",
       "      <td>121</td>\n",
       "      <td>1</td>\n",
       "      <td>40</td>\n",
       "      <td>0</td>\n",
       "      <td>260000.0</td>\n",
       "      <td>0.70</td>\n",
       "      <td>1</td>\n",
       "      <td>0</td>\n",
       "      <td>175</td>\n",
       "    </tr>\n",
       "    <tr>\n",
       "      <th>117</th>\n",
       "      <td>1</td>\n",
       "      <td>102</td>\n",
       "      <td>0</td>\n",
       "      <td>60</td>\n",
       "      <td>0</td>\n",
       "      <td>507000.0</td>\n",
       "      <td>3.20</td>\n",
       "      <td>0</td>\n",
       "      <td>0</td>\n",
       "      <td>94</td>\n",
       "    </tr>\n",
       "    <tr>\n",
       "      <th>47</th>\n",
       "      <td>0</td>\n",
       "      <td>582</td>\n",
       "      <td>1</td>\n",
       "      <td>38</td>\n",
       "      <td>1</td>\n",
       "      <td>451000.0</td>\n",
       "      <td>0.60</td>\n",
       "      <td>1</td>\n",
       "      <td>1</td>\n",
       "      <td>40</td>\n",
       "    </tr>\n",
       "    <tr>\n",
       "      <th>172</th>\n",
       "      <td>1</td>\n",
       "      <td>171</td>\n",
       "      <td>0</td>\n",
       "      <td>60</td>\n",
       "      <td>1</td>\n",
       "      <td>176000.0</td>\n",
       "      <td>1.10</td>\n",
       "      <td>1</td>\n",
       "      <td>1</td>\n",
       "      <td>146</td>\n",
       "    </tr>\n",
       "  </tbody>\n",
       "</table>\n",
       "<p>239 rows × 10 columns</p>\n",
       "</div>"
      ],
      "text/plain": [
       "     anaemia  creatinine_phosphokinase  diabetes  ejection_fraction  \\\n",
       "134        0                      4540         0                 35   \n",
       "145        0                       185         0                 30   \n",
       "63         0                       582         0                 35   \n",
       "292        0                       190         1                 38   \n",
       "284        1                        54         0                 40   \n",
       "..       ...                       ...       ...                ...   \n",
       "251        0                       572         1                 35   \n",
       "192        1                       121         1                 40   \n",
       "117        1                       102         0                 60   \n",
       "47         0                       582         1                 38   \n",
       "172        1                       171         0                 60   \n",
       "\n",
       "     high_blood_pressure  platelets  serum_creatinine  sex  smoking  time  \n",
       "134                    0   231000.0              1.18    1        1   107  \n",
       "145                    0   266000.0              0.70    1        1   112  \n",
       "63                     0   385000.0              1.00    1        0    61  \n",
       "292                    0   382000.0              1.00    1        1   258  \n",
       "284                    0   279000.0              0.80    1        0   250  \n",
       "..                   ...        ...               ...  ...      ...   ...  \n",
       "251                    0   231000.0              0.80    0        0   215  \n",
       "192                    0   260000.0              0.70    1        0   175  \n",
       "117                    0   507000.0              3.20    0        0    94  \n",
       "47                     1   451000.0              0.60    1        1    40  \n",
       "172                    1   176000.0              1.10    1        1   146  \n",
       "\n",
       "[239 rows x 10 columns]"
      ]
     },
     "execution_count": 14,
     "metadata": {},
     "output_type": "execute_result"
    }
   ],
   "source": [
    "X_train"
   ]
  },
  {
   "cell_type": "code",
   "execution_count": 15,
   "metadata": {},
   "outputs": [
    {
     "data": {
      "text/plain": [
       "134    0\n",
       "145    0\n",
       "63     1\n",
       "292    0\n",
       "284    0\n",
       "      ..\n",
       "251    0\n",
       "192    0\n",
       "117    0\n",
       "47     1\n",
       "172    0\n",
       "Name: DEATH_EVENT, Length: 239, dtype: int64"
      ]
     },
     "execution_count": 15,
     "metadata": {},
     "output_type": "execute_result"
    }
   ],
   "source": [
    "Y_train"
   ]
  },
  {
   "cell_type": "code",
   "execution_count": 16,
   "metadata": {},
   "outputs": [],
   "source": [
    "#from sklearn.preprocessing import StandardScaler\n",
    "\n",
    "#std_scalar = StandardScaler()\n",
    "#std_scalar.fit_transform(X_train) \n",
    "#std_scalar.transform(X_test) "
   ]
  },
  {
   "cell_type": "code",
   "execution_count": 17,
   "metadata": {},
   "outputs": [
    {
     "data": {
      "text/plain": [
       "array([[1.        , 0.00995152, 0.        , 0.54166667, 0.        ,\n",
       "        0.24354467, 0.03370787, 0.        , 0.        , 0.66304348],\n",
       "       [1.        , 0.0163307 , 1.        , 0.54166667, 1.        ,\n",
       "        0.21323797, 0.05617978, 0.        , 0.        , 0.60869565],\n",
       "       [1.        , 0.12222506, 0.        , 0.33333333, 0.        ,\n",
       "        0.13444054, 0.06741573, 1.        , 0.        , 0.02536232],\n",
       "       [0.        , 0.07131921, 1.        , 0.4375    , 1.        ,\n",
       "        0.41932355, 0.02247191, 0.        , 0.        , 0.69927536],\n",
       "       [0.        , 0.02666497, 0.        , 0.33333333, 0.        ,\n",
       "        0.17929446, 0.07865169, 1.        , 0.        , 0.74637681],\n",
       "       [1.        , 0.00459301, 1.        , 0.95833333, 0.        ,\n",
       "        0.17808219, 0.04494382, 0.        , 0.        , 0.37318841],\n",
       "       [0.        , 0.00421026, 0.        , 0.22916667, 0.        ,\n",
       "        0.25687962, 0.50561798, 0.        , 0.        , 0.73550725],\n",
       "       [1.        , 0.01837203, 1.        , 0.64583333, 0.        ,\n",
       "        0.40841314, 0.05617978, 0.        , 0.        , 0.66304348],\n",
       "       [0.        , 0.50280684, 1.        , 1.        , 0.        ,\n",
       "        0.28883262, 0.70786517, 0.        , 0.        , 0.14130435],\n",
       "       [0.        , 0.1164838 , 0.        , 0.5       , 0.        ,\n",
       "        0.33810159, 0.06741573, 1.        , 1.        , 0.30434783],\n",
       "       [0.        , 0.00739985, 1.        , 0.4375    , 1.        ,\n",
       "        0.615711  , 0.08988764, 0.        , 0.        , 0.75362319],\n",
       "       [1.        , 0.04541975, 0.        , 0.75      , 0.        ,\n",
       "        0.02654867, 0.08988764, 1.        , 0.        , 0.0326087 ],\n",
       "       [1.        , 0.0155652 , 0.        , 0.22916667, 0.        ,\n",
       "        0.2350588 , 0.07865169, 1.        , 1.        , 0.60144928],\n",
       "       [0.        , 0.25440163, 0.        , 0.22916667, 0.        ,\n",
       "        0.35022427, 0.06741573, 1.        , 0.        , 0.76086957],\n",
       "       [1.        , 0.02513396, 0.        , 0.4375    , 1.        ,\n",
       "        0.31991757, 0.04494382, 1.        , 1.        , 0.05797101],\n",
       "       [0.        , 0.07131921, 0.        , 0.125     , 0.        ,\n",
       "        0.2920354 , 0.07865169, 1.        , 1.        , 0.25      ],\n",
       "       [0.        , 0.07131921, 1.        , 0.4375    , 0.        ,\n",
       "        0.2386956 , 0.05617978, 1.        , 0.        , 0.86956522],\n",
       "       [0.        , 0.00548609, 1.        , 0.64583333, 0.        ,\n",
       "        0.27142684, 0.03370787, 1.        , 1.        , 0.27536232],\n",
       "       [1.        , 0.35353406, 0.        , 0.4375    , 1.        ,\n",
       "        0.14050188, 0.05617978, 1.        , 0.        , 0.73188406],\n",
       "       [1.        , 0.02143404, 1.        , 0.33333333, 1.        ,\n",
       "        0.37446963, 0.05617978, 1.        , 1.        , 0.76811594],\n",
       "       [0.        , 0.07131921, 1.        , 0.4375    , 0.        ,\n",
       "        0.39386592, 0.17977528, 1.        , 0.        , 0.61594203],\n",
       "       [0.        , 0.66164838, 0.        , 0.33333333, 0.        ,\n",
       "        0.24354467, 0.05617978, 1.        , 1.        , 0.30072464],\n",
       "       [0.        , 0.07131921, 0.        , 0.54166667, 0.        ,\n",
       "        0.23263426, 0.35955056, 1.        , 0.        , 0.33333333],\n",
       "       [1.        , 0.03151314, 1.        , 0.4375    , 0.        ,\n",
       "        0.24475694, 0.3258427 , 1.        , 0.        , 0.36594203],\n",
       "       [0.        , 0.07131921, 0.        , 0.125     , 0.        ,\n",
       "        0.28883262, 0.1494382 , 1.        , 0.        , 0.70289855],\n",
       "       [1.        , 0.0093136 , 1.        , 0.95833333, 1.        ,\n",
       "        0.29809674, 0.02247191, 0.        , 0.        , 0.32608696],\n",
       "       [0.        , 0.07131921, 0.        , 0.125     , 1.        ,\n",
       "        0.12231786, 0.12359551, 1.        , 0.        , 0.63768116],\n",
       "       [1.        , 0.01875478, 1.        , 0.54166667, 0.        ,\n",
       "        0.37689417, 0.07865169, 1.        , 0.        , 0.89130435],\n",
       "       [0.        , 0.00484818, 1.        , 0.5       , 1.        ,\n",
       "        0.15747363, 0.06741573, 1.        , 1.        , 0.96376812],\n",
       "       [0.        , 0.02347538, 1.        , 0.54166667, 0.        ,\n",
       "        0.23990787, 0.07865169, 0.        , 0.        , 0.76086957],\n",
       "       [0.        , 0.07131921, 0.        , 0.95833333, 0.        ,\n",
       "        0.28883262, 0.07640449, 0.        , 0.        , 0.2826087 ],\n",
       "       [1.        , 0.02896147, 1.        , 0.02083333, 0.        ,\n",
       "        0.22778519, 0.08988764, 0.        , 0.        , 0.22101449],\n",
       "       [0.        , 0.0170962 , 0.        , 1.0625    , 0.        ,\n",
       "        0.28883262, 0.11235955, 0.        , 0.        , 0.02173913],\n",
       "       [0.        , 0.0093136 , 1.        , 0.5       , 0.        ,\n",
       "        0.24596921, 0.02808989, 0.        , 0.        , 0.32971014],\n",
       "       [1.        , 0.05154376, 0.        , 1.16666667, 1.        ,\n",
       "        0.15262456, 0.95505618, 0.        , 0.        , 0.69565217],\n",
       "       [0.        , 0.02679255, 0.        , 0.64583333, 1.        ,\n",
       "        0.25445509, 0.2247191 , 0.        , 0.        , 0.40217391],\n",
       "       [0.        , 0.17810666, 0.        , 0.54166667, 0.        ,\n",
       "        0.09686023, 0.05617978, 1.        , 1.        , 0.51811594],\n",
       "       [0.        , 0.04746109, 1.        , 0.22916667, 0.        ,\n",
       "        0.29082313, 0.07865169, 1.        , 1.        , 0.54347826],\n",
       "       [0.        , 0.02207196, 0.        , 0.64583333, 0.        ,\n",
       "        0.44841799, 0.12359551, 1.        , 1.        , 1.01811594],\n",
       "       [1.        , 0.00306201, 0.        , 0.54166667, 1.        ,\n",
       "        0.21687477, 0.17977528, 1.        , 1.        , 0.01449275],\n",
       "       [1.        , 0.0170962 , 1.        , 0.95833333, 0.        ,\n",
       "        0.22172385, 0.05617978, 0.        , 0.        , 0.8442029 ],\n",
       "       [1.        , 0.01173769, 0.        , 0.22916667, 1.        ,\n",
       "        0.18899261, 0.06741573, 1.        , 0.        , 0.27173913],\n",
       "       [0.        , 0.07131921, 0.        , 0.75      , 0.        ,\n",
       "        0.28883262, 0.07640449, 1.        , 1.        , 0.26086957],\n",
       "       [0.        , 0.00905843, 1.        , 0.75      , 1.        ,\n",
       "        0.19747848, 0.05617978, 1.        , 0.        , 0.09057971],\n",
       "       [1.        , 0.04439908, 0.        , 0.33333333, 0.        ,\n",
       "        0.52842769, 0.16853933, 1.        , 0.        , 0.16666667],\n",
       "       [0.        , 0.19456494, 0.        , 0.33333333, 1.        ,\n",
       "        0.22536065, 0.03370787, 1.        , 0.        , 0.37681159],\n",
       "       [1.        , 0.07131921, 0.        , 0.64583333, 0.        ,\n",
       "        0.33931386, 0.06741573, 1.        , 1.        , 0.74275362],\n",
       "       [0.        , 0.07131921, 0.        , 1.375     , 0.        ,\n",
       "        0.28883262, 0.07640449, 0.        , 0.        , 0.21376812],\n",
       "       [1.        , 0.0372544 , 1.        , 0.95833333, 0.        ,\n",
       "        0.51994181, 0.06741573, 1.        , 1.        , 0.02173913],\n",
       "       [0.        , 0.07131921, 1.        , 0.5       , 0.        ,\n",
       "        0.3453752 , 0.15730337, 1.        , 1.        , 0.11231884],\n",
       "       [0.        , 0.0256443 , 1.        , 0.75      , 0.        ,\n",
       "        0.15020002, 0.08988764, 1.        , 1.        , 0.24637681],\n",
       "       [0.        , 0.03789232, 0.        , 0.4375    , 0.        ,\n",
       "        0.13080373, 0.1011236 , 1.        , 0.        , 0.92028986],\n",
       "       [1.        , 0.01173769, 0.        , 0.125     , 0.        ,\n",
       "        0.19869075, 0.03370787, 1.        , 0.        , 0.51449275],\n",
       "       [0.        , 0.09249809, 0.        , 0.64583333, 0.        ,\n",
       "        0.28839859, 0.08988764, 1.        , 0.        , 0.30434783],\n",
       "       [0.        , 0.043506  , 1.        , 0.125     , 1.        ,\n",
       "        0.27748818, 0.08988764, 1.        , 1.        , 0.19927536],\n",
       "       [0.        , 0.01824445, 0.        , 0.33333333, 0.        ,\n",
       "        0.04473269, 0.13483146, 0.        , 0.        , 0.73550725],\n",
       "       [0.        , 0.07131921, 1.        , 0.54166667, 0.        ,\n",
       "        0.29688447, 0.05617978, 0.        , 0.        , 0.49275362],\n",
       "       [1.        , 0.01135494, 0.        , 0.54166667, 1.        ,\n",
       "        0.20717663, 0.05617978, 0.        , 0.        , 0.07246377],\n",
       "       [0.        , 0.21242664, 0.        , 0.5       , 0.        ,\n",
       "        0.28883262, 0.06741573, 1.        , 1.        , 0.89130435],\n",
       "       [0.        , 0.23258484, 1.        , 0.4375    , 0.        ,\n",
       "        0.28883262, 0.07640449, 1.        , 1.        , 0.41666667]])"
      ]
     },
     "execution_count": 17,
     "metadata": {},
     "output_type": "execute_result"
    }
   ],
   "source": [
    "from sklearn.preprocessing import MinMaxScaler\n",
    "\n",
    "min_scalar = MinMaxScaler()\n",
    "min_scalar.fit_transform(X_train) \n",
    "min_scalar.transform(X_test) "
   ]
  },
  {
   "cell_type": "markdown",
   "metadata": {},
   "source": [
    "Logistic Regression Algorithm"
   ]
  },
  {
   "cell_type": "code",
   "execution_count": 18,
   "metadata": {},
   "outputs": [],
   "source": [
    "#Model Development and Prediction\n",
    "\n",
    "#sklearn model to load Logistic regression package\n",
    "from sklearn.linear_model import LogisticRegression\n",
    "#max_iter=1200000, dual=False , class_weight=\"balanced\", penalty=\"none\"\n",
    "logreg = LogisticRegression()\n",
    "\n",
    "#fit training data\n",
    "logreg.fit(X_train, Y_train)\n",
    "\n",
    "#predict unseen data on trained model\n",
    "Y_pred = logreg.predict(X_test)"
   ]
  },
  {
   "cell_type": "code",
   "execution_count": 19,
   "metadata": {},
   "outputs": [
    {
     "data": {
      "text/plain": [
       "array([0, 0, 1, 0, 0, 0, 0, 0, 1, 0, 0, 0, 0, 0, 1, 0, 0, 0, 0, 0, 0, 1,\n",
       "       0, 0, 0, 0, 0, 0, 0, 0, 0, 0, 1, 0, 0, 0, 0, 0, 0, 1, 0, 0, 0, 0,\n",
       "       1, 0, 0, 0, 1, 1, 0, 0, 0, 0, 0, 0, 0, 0, 0, 0], dtype=int64)"
      ]
     },
     "execution_count": 19,
     "metadata": {},
     "output_type": "execute_result"
    }
   ],
   "source": [
    "Y_pred"
   ]
  },
  {
   "cell_type": "code",
   "execution_count": 20,
   "metadata": {},
   "outputs": [],
   "source": [
    "from sklearn.metrics import confusion_matrix"
   ]
  },
  {
   "cell_type": "code",
   "execution_count": 21,
   "metadata": {},
   "outputs": [],
   "source": [
    "conf_matrix = confusion_matrix(Y_test, Y_pred)"
   ]
  },
  {
   "cell_type": "code",
   "execution_count": 22,
   "metadata": {},
   "outputs": [
    {
     "data": {
      "text/plain": [
       "array([[36,  1],\n",
       "       [15,  8]], dtype=int64)"
      ]
     },
     "execution_count": 22,
     "metadata": {},
     "output_type": "execute_result"
    }
   ],
   "source": [
    "conf_matrix"
   ]
  },
  {
   "cell_type": "code",
   "execution_count": 23,
   "metadata": {},
   "outputs": [
    {
     "data": {
      "text/plain": [
       "0.7333333333333333"
      ]
     },
     "execution_count": 23,
     "metadata": {},
     "output_type": "execute_result"
    }
   ],
   "source": [
    "from sklearn.metrics import accuracy_score\n",
    "accuracy = accuracy_score(Y_test, Y_pred)\n",
    "accuracy"
   ]
  },
  {
   "cell_type": "code",
   "execution_count": 24,
   "metadata": {},
   "outputs": [
    {
     "data": {
      "text/plain": [
       "0.8888888888888888"
      ]
     },
     "execution_count": 24,
     "metadata": {},
     "output_type": "execute_result"
    }
   ],
   "source": [
    "from sklearn.metrics import precision_score\n",
    "precision = precision_score(Y_test, Y_pred)\n",
    "precision"
   ]
  },
  {
   "cell_type": "code",
   "execution_count": 25,
   "metadata": {},
   "outputs": [
    {
     "data": {
      "text/plain": [
       "0.34782608695652173"
      ]
     },
     "execution_count": 25,
     "metadata": {},
     "output_type": "execute_result"
    }
   ],
   "source": [
    "from sklearn.metrics import recall_score\n",
    "recall = recall_score(Y_test, Y_pred)\n",
    "recall"
   ]
  },
  {
   "cell_type": "code",
   "execution_count": 26,
   "metadata": {},
   "outputs": [
    {
     "data": {
      "image/png": "[encoded data removed]",
      "text/plain": [
       "<Figure size 432x288 with 1 Axes>"
      ]
     },
     "metadata": {
      "needs_background": "light"
     },
     "output_type": "display_data"
    }
   ],
   "source": [
    "from sklearn.metrics import roc_curve\n",
    "import matplotlib.pyplot as plt\n",
    "\n",
    "Y_pred_proba = logreg.predict_proba(X_test)[::,1]\n",
    "fpr, tpr, _ = roc_curve(Y_test,  Y_pred)\n",
    "auc = roc_auc_score(Y_test, Y_pred)\n",
    "plt.plot(fpr,tpr,label=\"data 1, auc=\"+str(auc))\n",
    "plt.xlabel(\"False Positives\")\n",
    "plt.ylabel(\"True Positives\")\n",
    "plt.legend(loc=4)\n",
    "plt.show()"
   ]
  },
  {
   "cell_type": "markdown",
   "metadata": {},
   "source": [
    "Naive Bayes Algorithm"
   ]
  },
  {
   "cell_type": "code",
   "execution_count": 27,
   "metadata": {},
   "outputs": [],
   "source": [
    "#Model development and prediction\n",
    "\n",
    "#sklearn model to load Naive bayes package\n",
    "from sklearn.naive_bayes import GaussianNB #binary\n",
    "from sklearn.naive_bayes import MultinomialNB  #multiclass\n",
    "from sklearn.naive_bayes import BernoulliNB\n",
    "\n",
    "naive =GaussianNB()\n",
    "\n",
    "#Fit training data \n",
    "naive.fit(X_train, Y_train)\n",
    "\n",
    "#Predict unseen data on trained model\n",
    "Y_pred = naive.predict(X_test)"
   ]
  },
  {
   "cell_type": "code",
   "execution_count": 28,
   "metadata": {},
   "outputs": [
    {
     "data": {
      "text/plain": [
       "array([0, 0, 1, 0, 0, 0, 0, 0, 1, 0, 0, 0, 0, 0, 1, 1, 0, 0, 1, 0, 0, 1,\n",
       "       0, 0, 0, 0, 0, 0, 0, 0, 0, 1, 0, 0, 0, 0, 0, 0, 0, 1, 0, 1, 0, 0,\n",
       "       0, 0, 0, 0, 0, 0, 0, 0, 0, 0, 1, 0, 0, 1, 0, 0], dtype=int64)"
      ]
     },
     "execution_count": 28,
     "metadata": {},
     "output_type": "execute_result"
    }
   ],
   "source": [
    "Y_pred"
   ]
  },
  {
   "cell_type": "code",
   "execution_count": 29,
   "metadata": {},
   "outputs": [],
   "source": [
    "from sklearn.metrics import confusion_matrix"
   ]
  },
  {
   "cell_type": "code",
   "execution_count": 30,
   "metadata": {},
   "outputs": [],
   "source": [
    "conf_matrix = confusion_matrix(Y_test, Y_pred)"
   ]
  },
  {
   "cell_type": "code",
   "execution_count": 31,
   "metadata": {},
   "outputs": [
    {
     "data": {
      "text/plain": [
       "array([[34,  3],\n",
       "       [15,  8]], dtype=int64)"
      ]
     },
     "execution_count": 31,
     "metadata": {},
     "output_type": "execute_result"
    }
   ],
   "source": [
    "conf_matrix"
   ]
  },
  {
   "cell_type": "code",
   "execution_count": 32,
   "metadata": {},
   "outputs": [
    {
     "data": {
      "text/plain": [
       "0.7"
      ]
     },
     "execution_count": 32,
     "metadata": {},
     "output_type": "execute_result"
    }
   ],
   "source": [
    "from sklearn.metrics import accuracy_score\n",
    "accuracy = accuracy_score(Y_test, Y_pred)\n",
    "accuracy"
   ]
  },
  {
   "cell_type": "code",
   "execution_count": 33,
   "metadata": {},
   "outputs": [
    {
     "data": {
      "text/plain": [
       "0.7272727272727273"
      ]
     },
     "execution_count": 33,
     "metadata": {},
     "output_type": "execute_result"
    }
   ],
   "source": [
    "from sklearn.metrics import precision_score\n",
    "precision = precision_score(Y_test, Y_pred)\n",
    "precision"
   ]
  },
  {
   "cell_type": "code",
   "execution_count": 34,
   "metadata": {},
   "outputs": [
    {
     "data": {
      "text/plain": [
       "0.34782608695652173"
      ]
     },
     "execution_count": 34,
     "metadata": {},
     "output_type": "execute_result"
    }
   ],
   "source": [
    "from sklearn.metrics import recall_score\n",
    "recall = recall_score(Y_test, Y_pred)\n",
    "recall"
   ]
  },
  {
   "cell_type": "code",
   "execution_count": 35,
   "metadata": {},
   "outputs": [
    {
     "data": {
      "image/png": "[encoded data removed]",
      "text/plain": [
       "<Figure size 432x288 with 1 Axes>"
      ]
     },
     "metadata": {
      "needs_background": "light"
     },
     "output_type": "display_data"
    }
   ],
   "source": [
    "from sklearn.metrics import roc_curve\n",
    "import matplotlib.pyplot as plt\n",
    "\n",
    "Y_pred_proba = logreg.predict_proba(X_test)[::,1]\n",
    "fpr, tpr, _ = roc_curve(Y_test,  Y_pred)\n",
    "auc = roc_auc_score(Y_test, Y_pred)\n",
    "plt.plot(fpr,tpr,label=\"data 1, auc=\"+str(auc))\n",
    "plt.xlabel(\"False Positives\")\n",
    "plt.ylabel(\"True Positives\")\n",
    "plt.legend(loc=4)\n",
    "plt.show()"
   ]
  },
  {
   "cell_type": "markdown",
   "metadata": {},
   "source": [
    "Decision Tree Algorithm"
   ]
  },
  {
   "cell_type": "code",
   "execution_count": 36,
   "metadata": {},
   "outputs": [],
   "source": [
    "#sklearn model to load Decision tree package\n",
    "from sklearn.tree import DecisionTreeClassifier  \n",
    "#max_iter=1200000, dual=False , class_weight=\"balanced\", penalty=\"none\"\n",
    "ds_clss = DecisionTreeClassifier()\n",
    "\n",
    "#Fit training data \n",
    "ds_clss.fit(X_train, Y_train)\n",
    "\n",
    "#Predict unseen data on trained model\n",
    "Y_pred = ds_clss.predict(X_test)"
   ]
  },
  {
   "cell_type": "code",
   "execution_count": 37,
   "metadata": {},
   "outputs": [
    {
     "data": {
      "text/plain": [
       "array([0, 1, 1, 0, 0, 0, 1, 0, 1, 1, 0, 1, 1, 0, 1, 1, 0, 0, 0, 0, 0, 0,\n",
       "       1, 0, 1, 0, 1, 0, 0, 0, 0, 1, 1, 0, 0, 1, 0, 1, 0, 1, 0, 0, 0, 1,\n",
       "       1, 0, 0, 1, 1, 1, 0, 0, 0, 1, 1, 1, 0, 1, 0, 0], dtype=int64)"
      ]
     },
     "execution_count": 37,
     "metadata": {},
     "output_type": "execute_result"
    }
   ],
   "source": [
    "Y_pred"
   ]
  },
  {
   "cell_type": "code",
   "execution_count": 38,
   "metadata": {},
   "outputs": [],
   "source": [
    "from sklearn.metrics import confusion_matrix"
   ]
  },
  {
   "cell_type": "code",
   "execution_count": 39,
   "metadata": {},
   "outputs": [],
   "source": [
    "conf_matrix = confusion_matrix(Y_test, Y_pred)"
   ]
  },
  {
   "cell_type": "code",
   "execution_count": 40,
   "metadata": {},
   "outputs": [
    {
     "data": {
      "text/plain": [
       "array([[32,  5],\n",
       "       [ 2, 21]], dtype=int64)"
      ]
     },
     "execution_count": 40,
     "metadata": {},
     "output_type": "execute_result"
    }
   ],
   "source": [
    "conf_matrix"
   ]
  },
  {
   "cell_type": "code",
   "execution_count": 41,
   "metadata": {},
   "outputs": [
    {
     "data": {
      "text/plain": [
       "0.8833333333333333"
      ]
     },
     "execution_count": 41,
     "metadata": {},
     "output_type": "execute_result"
    }
   ],
   "source": [
    "from sklearn.metrics import accuracy_score\n",
    "accuracy = accuracy_score(Y_test, Y_pred)\n",
    "accuracy"
   ]
  },
  {
   "cell_type": "code",
   "execution_count": 42,
   "metadata": {},
   "outputs": [
    {
     "data": {
      "text/plain": [
       "0.8076923076923077"
      ]
     },
     "execution_count": 42,
     "metadata": {},
     "output_type": "execute_result"
    }
   ],
   "source": [
    "from sklearn.metrics import precision_score\n",
    "precision = precision_score(Y_test, Y_pred)\n",
    "precision"
   ]
  },
  {
   "cell_type": "code",
   "execution_count": 43,
   "metadata": {},
   "outputs": [
    {
     "data": {
      "text/plain": [
       "0.9130434782608695"
      ]
     },
     "execution_count": 43,
     "metadata": {},
     "output_type": "execute_result"
    }
   ],
   "source": [
    "from sklearn.metrics import recall_score\n",
    "recall = recall_score(Y_test, Y_pred)\n",
    "recall"
   ]
  },
  {
   "cell_type": "code",
   "execution_count": 44,
   "metadata": {},
   "outputs": [
    {
     "data": {
      "image/png": "[encoded data removed]",
      "text/plain": [
       "<Figure size 432x288 with 1 Axes>"
      ]
     },
     "metadata": {
      "needs_background": "light"
     },
     "output_type": "display_data"
    }
   ],
   "source": [
    "from sklearn.metrics import roc_curve\n",
    "import matplotlib.pyplot as plt\n",
    "\n",
    "Y_pred_proba = logreg.predict_proba(X_test)[::,1]\n",
    "fpr, tpr, _ = roc_curve(Y_test,  Y_pred)\n",
    "auc = roc_auc_score(Y_test, Y_pred)\n",
    "plt.plot(fpr,tpr,label=\"data 1, auc=\"+str(auc))\n",
    "plt.xlabel(\"False Positives\")\n",
    "plt.ylabel(\"True Positives\")\n",
    "plt.legend(loc=4)\n",
    "plt.show()"
   ]
  },
  {
   "cell_type": "code",
   "execution_count": null,
   "metadata": {},
   "outputs": [],
   "source": []
  }
 ],
 "metadata": {
  "kernelspec": {
   "display_name": "Python 3",
   "language": "python",
   "name": "python3"
  },
  "language_info": {
   "codemirror_mode": {
    "name": "ipython",
    "version": 3
   },
   "file_extension": ".py",
   "mimetype": "text/x-python",
   "name": "python",
   "nbconvert_exporter": "python",
   "pygments_lexer": "ipython3",
   "version": "3.7.6"
  }
 },
 "nbformat": 4,
 "nbformat_minor": 4
}
